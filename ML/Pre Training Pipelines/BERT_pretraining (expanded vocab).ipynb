{
  "cells": [
    {
      "cell_type": "code",
      "execution_count": null,
      "metadata": {
        "id": "zobzMmf22U3W"
      },
      "outputs": [],
      "source": [
        "import torch\n",
        "from transformers import BertTokenizer, BertForMaskedLM, DataCollatorForLanguageModeling\n",
        "from transformers import Trainer, TrainingArguments\n",
        "from datasets import Dataset\n",
        "import pandas as pd\n",
        "from sklearn.model_selection import train_test_split\n",
        "\n",
        "\n",
        "RANDOM_SEED = 69\n",
        "TOKEN_LIMIT = 400\n",
        "TORCH_SEED = 69"
      ]
    },
    {
      "cell_type": "code",
      "execution_count": null,
      "metadata": {
        "colab": {
          "base_uri": "https://localhost:8080/"
        },
        "id": "yoYPAuoAFX1D",
        "outputId": "64ec3ca3-2cc2-41b6-be99-1d31558cfc5b"
      },
      "outputs": [],
      "source": [
        "device = torch.device(\"cuda\" if torch.cuda.is_available() else \"cpu\")\n",
        "print(f\"Using device: {device}\")"
      ]
    },
    {
      "cell_type": "code",
      "execution_count": null,
      "metadata": {
        "colab": {
          "base_uri": "https://localhost:8080/"
        },
        "id": "utkrxxjXNSCe",
        "outputId": "0084a63b-d853-499a-8489-821a1611c5eb"
      },
      "outputs": [],
      "source": [
        "from google.colab import drive\n",
        "\n",
        "drive.mount('/content/drive')"
      ]
    },
    {
      "cell_type": "code",
      "execution_count": null,
      "metadata": {
        "colab": {
          "base_uri": "https://localhost:8080/"
        },
        "id": "Um8vjH1kOX_D",
        "outputId": "c2fb1fd3-b0ac-41b0-939a-91dca12c5871"
      },
      "outputs": [],
      "source": [
        "torch.manual_seed(TORCH_SEED)"
      ]
    },
    {
      "cell_type": "code",
      "execution_count": null,
      "metadata": {
        "colab": {
          "base_uri": "https://localhost:8080/"
        },
        "id": "jXgJLOKeFFVJ",
        "outputId": "c4a1a508-2596-4d75-abe1-6f8f9c5703d6"
      },
      "outputs": [],
      "source": [
        "data = pd.read_csv('pretraining_dataset.csv')\n",
        "\n",
        "dataset = Dataset.from_pandas(data)"
      ]
    },
    {
      "cell_type": "code",
      "execution_count": null,
      "metadata": {
        "id": "PVTlvRsSOglr"
      },
      "outputs": [],
      "source": [
        "# Unzip expanded vocab BERT\n",
        "!unzip -q '/content/drive/MyDrive/Capstone backup/expanded_vocab_bert.zip' -d ./"
      ]
    },
    {
      "cell_type": "code",
      "execution_count": null,
      "metadata": {
        "colab": {
          "base_uri": "https://localhost:8080/"
        },
        "id": "oQBdaDeXOeKf",
        "outputId": "f2622053-6f6f-41ca-b957-07af350f87be"
      },
      "outputs": [],
      "source": [
        "tokenizer = BertTokenizer.from_pretrained('./expanded_vocab_bert')\n",
        "\n",
        "# To verify is tokenizer is expanded properly, else can ignore\n",
        "test_slang = \"gratz\"\n",
        "test_emoji = \"✅\"\n",
        "\n",
        "slang_id = tokenizer.convert_tokens_to_ids(test_slang)\n",
        "emoji_id = tokenizer.convert_tokens_to_ids(test_emoji)\n",
        "\n",
        "print(f\"Token ID for slang '{test_slang}': {slang_id}\")\n",
        "print(f\"Token ID for emoji '{test_emoji}': {emoji_id}\")\n",
        "\n",
        "if slang_id == tokenizer.unk_token_id:\n",
        "    print(f\"Slang '{test_slang}' is not in the vocabulary.\")\n",
        "else:\n",
        "    print(f\"Slang '{test_slang}' is in the vocabulary.\")\n",
        "\n",
        "if emoji_id == tokenizer.unk_token_id:\n",
        "    print(f\"Emoji '{test_emoji}' is not in the vocabulary.\")\n",
        "else:\n",
        "    print(f\"Emoji '{test_emoji}' is in the vocabulary.\")"
      ]
    },
    {
      "cell_type": "code",
      "execution_count": null,
      "metadata": {
        "colab": {
          "base_uri": "https://localhost:8080/",
          "height": 49,
          "referenced_widgets": [
            "78713ae48f33486d9d76677991e115ae",
            "c3b4bb5cbda84fc2827547704e51d0f3",
            "dd39bc533e8d41b48a6ca75fbf0268b9",
            "00d4875fad2c49c6a024cb6e9c5298ff",
            "c66690606b4548afba0c1076f1517e96",
            "559fac86334543c5b587332afba0aa84",
            "9a4e867ef4b443a59e9025892e121be5",
            "778b33d9b4f8440d8c5f6f923a9ed088",
            "31b43ad525d44a8aba20c1fdf77c9bcd",
            "a5d0067dba8e4274bd309c26fe2c612e",
            "45fe737a7ebb493b81d79aee15fbb355"
          ]
        },
        "id": "mAMqu47PFKAE",
        "outputId": "65359f44-a1fc-4b8f-9824-04bec770a350"
      },
      "outputs": [],
      "source": [
        "def tokenize_function(data):\n",
        "    return tokenizer(data['text'], truncation=True, max_length=TOKEN_LIMIT)\n",
        "\n",
        "tokenized_dataset = dataset.map(tokenize_function, batched=True)"
      ]
    },
    {
      "cell_type": "code",
      "execution_count": null,
      "metadata": {
        "colab": {
          "base_uri": "https://localhost:8080/"
        },
        "id": "qXupTfVtFh-X",
        "outputId": "b529f77e-f19f-4b4b-88ff-463ae3dc81d1"
      },
      "outputs": [],
      "source": [
        "df = tokenized_dataset.to_pandas()\n",
        "\n",
        "train_df, eval_df = train_test_split(\n",
        "    df,\n",
        "    test_size=0.1,\n",
        "    stratify=df['source'],\n",
        "    random_state=RANDOM_SEED\n",
        ")\n",
        "\n",
        "train_df = train_df.reset_index(drop=True)\n",
        "eval_df = eval_df.reset_index(drop=True)\n",
        "\n",
        "train_dataset = Dataset.from_pandas(train_df)\n",
        "eval_dataset = Dataset.from_pandas(eval_df)\n",
        "\n",
        "print(f\"Training size: {len(train_dataset)}, Evaluation size: {len(eval_dataset)}\")"
      ]
    },
    {
      "cell_type": "code",
      "execution_count": null,
      "metadata": {
        "colab": {
          "base_uri": "https://localhost:8080/"
        },
        "id": "ByHdkIqkF-yT",
        "outputId": "4cb2f03f-05f0-4ccc-bc79-7d8a048ac4e5"
      },
      "outputs": [],
      "source": [
        "mlm_expanded_model = BertForMaskedLM.from_pretrained(\"./expanded_vocab_bert\")"
      ]
    },
    {
      "cell_type": "code",
      "execution_count": null,
      "metadata": {
        "colab": {
          "base_uri": "https://localhost:8080/"
        },
        "collapsed": true,
        "id": "8A4xGOegOzTw",
        "outputId": "637dea8d-02f8-415d-ed8c-536038889f7c"
      },
      "outputs": [],
      "source": [
        "# To verify if embeddings are initialized properly\n",
        "\n",
        "embedding_layer = mlm_expanded_model.bert.embeddings.word_embeddings\n",
        "\n",
        "if slang_id != tokenizer.unk_token_id:\n",
        "    slang_embedding = embedding_layer.weight.data[slang_id]\n",
        "    print(f\"Embedding for slang '{test_slang}': {slang_embedding}\")\n",
        "\n",
        "if emoji_id != tokenizer.unk_token_id:\n",
        "    emoji_embedding = embedding_layer.weight.data[emoji_id]\n",
        "    print(f\"Embedding for emoji '{test_emoji}': {emoji_embedding}\")"
      ]
    },
    {
      "cell_type": "code",
      "execution_count": null,
      "metadata": {
        "id": "dR1q2EYNApCo"
      },
      "outputs": [],
      "source": [
        "batch_size = 16\n",
        "epochs = 4\n",
        "total_steps = (len(train_dataset) // batch_size) * epochs"
      ]
    },
    {
      "cell_type": "code",
      "execution_count": null,
      "metadata": {
        "id": "3Gl7ssn6GXuw"
      },
      "outputs": [],
      "source": [
        "data_collator = DataCollatorForLanguageModeling(\n",
        "    tokenizer=tokenizer,\n",
        "    mlm=True,\n",
        "    mlm_probability=0.15\n",
        ")"
      ]
    },
    {
      "cell_type": "code",
      "execution_count": null,
      "metadata": {
        "colab": {
          "base_uri": "https://localhost:8080/",
          "height": 360
        },
        "id": "4dznt67q3tQL",
        "outputId": "5f3ec786-d47f-41fe-d449-2b291cdf9b93"
      },
      "outputs": [],
      "source": [
        "training_args = TrainingArguments(\n",
        "    output_dir=\"./mlm_expanded_model_results\",\n",
        "    evaluation_strategy=\"epoch\",\n",
        "    # eval_steps=500,\n",
        "    learning_rate=3e-5,\n",
        "    per_device_train_batch_size=batch_size,\n",
        "    per_device_eval_batch_size=batch_size,\n",
        "    num_train_epochs=epochs,\n",
        "    weight_decay=0.01,\n",
        "    warmup_steps=int(0.1 * total_steps),\n",
        "    save_strategy=\"epoch\",\n",
        "    save_total_limit=10,\n",
        "    logging_dir=\"./logs\",\n",
        "    report_to=\"none\",\n",
        "    logging_steps=1000,\n",
        "  )\n",
        "\n",
        "trainer = Trainer(\n",
        "    model=mlm_expanded_model,\n",
        "    args=training_args,\n",
        "    train_dataset=train_dataset,\n",
        "    eval_dataset=eval_dataset,\n",
        "    tokenizer=tokenizer,\n",
        "    data_collator=data_collator,\n",
        ")\n",
        "\n",
        "trainer.train()\n",
        "\n",
        "mlm_expanded_model.save_pretrained(\"./mlm_expanded_model\")\n",
        "tokenizer.save_pretrained(\"./mlm_expanded_model\")"
      ]
    },
    {
      "cell_type": "markdown",
      "metadata": {
        "id": "MZYb4s6mIepR"
      },
      "source": [
        "# Additional Training ( 2 more epochs )"
      ]
    },
    {
      "cell_type": "code",
      "execution_count": null,
      "metadata": {},
      "outputs": [],
      "source": [
        "batch_size = 16\n",
        "epochs = 2\n",
        "total_steps = (len(train_dataset) // batch_size) * epochs"
      ]
    },
    {
      "cell_type": "code",
      "execution_count": null,
      "metadata": {
        "colab": {
          "base_uri": "https://localhost:8080/",
          "height": 384
        },
        "id": "FWJPWnbwI5_c",
        "outputId": "6921e90e-ad1d-47ef-bb61-8212162e6ff6"
      },
      "outputs": [],
      "source": [
        "training_args = TrainingArguments(\n",
        "    output_dir=\"./mlm_expanded_model_results\",\n",
        "    evaluation_strategy=\"epoch\",\n",
        "    # eval_steps=500,\n",
        "    learning_rate=3e-5,\n",
        "    per_device_train_batch_size=batch_size,\n",
        "    per_device_eval_batch_size=batch_size,\n",
        "    num_train_epochs=epochs,\n",
        "    weight_decay=0.01,\n",
        "    warmup_steps=int(0.1 * total_steps),\n",
        "    save_strategy=\"epoch\",\n",
        "    save_total_limit=10,\n",
        "    logging_dir=\"./logs\",\n",
        "    report_to=\"none\",\n",
        "    logging_steps=1000,\n",
        "  )\n",
        "\n",
        "trainer = Trainer(\n",
        "    model=mlm_expanded_model,\n",
        "    args=training_args,\n",
        "    train_dataset=train_dataset,\n",
        "    eval_dataset=eval_dataset,\n",
        "    tokenizer=tokenizer,\n",
        "    data_collator=data_collator,\n",
        ")\n",
        "\n",
        "trainer.train()\n",
        "\n",
        "mlm_expanded_model.save_pretrained(\"./mlm_expanded_additional_trg_model\")\n",
        "tokenizer.save_pretrained(\"./mlm_expanded_additional_trg_model\")"
      ]
    }
  ],
  "metadata": {
    "accelerator": "GPU",
    "colab": {
      "gpuType": "A100",
      "machine_shape": "hm",
      "provenance": []
    },
    "kernelspec": {
      "display_name": "Python 3",
      "name": "python3"
    },
    "language_info": {
      "name": "python"
    },
    "widgets": {
      "application/vnd.jupyter.widget-state+json": {
        "00d4875fad2c49c6a024cb6e9c5298ff": {
          "model_module": "@jupyter-widgets/controls",
          "model_module_version": "1.5.0",
          "model_name": "HTMLModel",
          "state": {
            "_dom_classes": [],
            "_model_module": "@jupyter-widgets/controls",
            "_model_module_version": "1.5.0",
            "_model_name": "HTMLModel",
            "_view_count": null,
            "_view_module": "@jupyter-widgets/controls",
            "_view_module_version": "1.5.0",
            "_view_name": "HTMLView",
            "description": "",
            "description_tooltip": null,
            "layout": "IPY_MODEL_a5d0067dba8e4274bd309c26fe2c612e",
            "placeholder": "​",
            "style": "IPY_MODEL_45fe737a7ebb493b81d79aee15fbb355",
            "value": " 1482030/1482030 [26:09&lt;00:00, 947.25 examples/s]"
          }
        },
        "31b43ad525d44a8aba20c1fdf77c9bcd": {
          "model_module": "@jupyter-widgets/controls",
          "model_module_version": "1.5.0",
          "model_name": "ProgressStyleModel",
          "state": {
            "_model_module": "@jupyter-widgets/controls",
            "_model_module_version": "1.5.0",
            "_model_name": "ProgressStyleModel",
            "_view_count": null,
            "_view_module": "@jupyter-widgets/base",
            "_view_module_version": "1.2.0",
            "_view_name": "StyleView",
            "bar_color": null,
            "description_width": ""
          }
        },
        "45fe737a7ebb493b81d79aee15fbb355": {
          "model_module": "@jupyter-widgets/controls",
          "model_module_version": "1.5.0",
          "model_name": "DescriptionStyleModel",
          "state": {
            "_model_module": "@jupyter-widgets/controls",
            "_model_module_version": "1.5.0",
            "_model_name": "DescriptionStyleModel",
            "_view_count": null,
            "_view_module": "@jupyter-widgets/base",
            "_view_module_version": "1.2.0",
            "_view_name": "StyleView",
            "description_width": ""
          }
        },
        "559fac86334543c5b587332afba0aa84": {
          "model_module": "@jupyter-widgets/base",
          "model_module_version": "1.2.0",
          "model_name": "LayoutModel",
          "state": {
            "_model_module": "@jupyter-widgets/base",
            "_model_module_version": "1.2.0",
            "_model_name": "LayoutModel",
            "_view_count": null,
            "_view_module": "@jupyter-widgets/base",
            "_view_module_version": "1.2.0",
            "_view_name": "LayoutView",
            "align_content": null,
            "align_items": null,
            "align_self": null,
            "border": null,
            "bottom": null,
            "display": null,
            "flex": null,
            "flex_flow": null,
            "grid_area": null,
            "grid_auto_columns": null,
            "grid_auto_flow": null,
            "grid_auto_rows": null,
            "grid_column": null,
            "grid_gap": null,
            "grid_row": null,
            "grid_template_areas": null,
            "grid_template_columns": null,
            "grid_template_rows": null,
            "height": null,
            "justify_content": null,
            "justify_items": null,
            "left": null,
            "margin": null,
            "max_height": null,
            "max_width": null,
            "min_height": null,
            "min_width": null,
            "object_fit": null,
            "object_position": null,
            "order": null,
            "overflow": null,
            "overflow_x": null,
            "overflow_y": null,
            "padding": null,
            "right": null,
            "top": null,
            "visibility": null,
            "width": null
          }
        },
        "778b33d9b4f8440d8c5f6f923a9ed088": {
          "model_module": "@jupyter-widgets/base",
          "model_module_version": "1.2.0",
          "model_name": "LayoutModel",
          "state": {
            "_model_module": "@jupyter-widgets/base",
            "_model_module_version": "1.2.0",
            "_model_name": "LayoutModel",
            "_view_count": null,
            "_view_module": "@jupyter-widgets/base",
            "_view_module_version": "1.2.0",
            "_view_name": "LayoutView",
            "align_content": null,
            "align_items": null,
            "align_self": null,
            "border": null,
            "bottom": null,
            "display": null,
            "flex": null,
            "flex_flow": null,
            "grid_area": null,
            "grid_auto_columns": null,
            "grid_auto_flow": null,
            "grid_auto_rows": null,
            "grid_column": null,
            "grid_gap": null,
            "grid_row": null,
            "grid_template_areas": null,
            "grid_template_columns": null,
            "grid_template_rows": null,
            "height": null,
            "justify_content": null,
            "justify_items": null,
            "left": null,
            "margin": null,
            "max_height": null,
            "max_width": null,
            "min_height": null,
            "min_width": null,
            "object_fit": null,
            "object_position": null,
            "order": null,
            "overflow": null,
            "overflow_x": null,
            "overflow_y": null,
            "padding": null,
            "right": null,
            "top": null,
            "visibility": null,
            "width": null
          }
        },
        "78713ae48f33486d9d76677991e115ae": {
          "model_module": "@jupyter-widgets/controls",
          "model_module_version": "1.5.0",
          "model_name": "HBoxModel",
          "state": {
            "_dom_classes": [],
            "_model_module": "@jupyter-widgets/controls",
            "_model_module_version": "1.5.0",
            "_model_name": "HBoxModel",
            "_view_count": null,
            "_view_module": "@jupyter-widgets/controls",
            "_view_module_version": "1.5.0",
            "_view_name": "HBoxView",
            "box_style": "",
            "children": [
              "IPY_MODEL_c3b4bb5cbda84fc2827547704e51d0f3",
              "IPY_MODEL_dd39bc533e8d41b48a6ca75fbf0268b9",
              "IPY_MODEL_00d4875fad2c49c6a024cb6e9c5298ff"
            ],
            "layout": "IPY_MODEL_c66690606b4548afba0c1076f1517e96"
          }
        },
        "9a4e867ef4b443a59e9025892e121be5": {
          "model_module": "@jupyter-widgets/controls",
          "model_module_version": "1.5.0",
          "model_name": "DescriptionStyleModel",
          "state": {
            "_model_module": "@jupyter-widgets/controls",
            "_model_module_version": "1.5.0",
            "_model_name": "DescriptionStyleModel",
            "_view_count": null,
            "_view_module": "@jupyter-widgets/base",
            "_view_module_version": "1.2.0",
            "_view_name": "StyleView",
            "description_width": ""
          }
        },
        "a5d0067dba8e4274bd309c26fe2c612e": {
          "model_module": "@jupyter-widgets/base",
          "model_module_version": "1.2.0",
          "model_name": "LayoutModel",
          "state": {
            "_model_module": "@jupyter-widgets/base",
            "_model_module_version": "1.2.0",
            "_model_name": "LayoutModel",
            "_view_count": null,
            "_view_module": "@jupyter-widgets/base",
            "_view_module_version": "1.2.0",
            "_view_name": "LayoutView",
            "align_content": null,
            "align_items": null,
            "align_self": null,
            "border": null,
            "bottom": null,
            "display": null,
            "flex": null,
            "flex_flow": null,
            "grid_area": null,
            "grid_auto_columns": null,
            "grid_auto_flow": null,
            "grid_auto_rows": null,
            "grid_column": null,
            "grid_gap": null,
            "grid_row": null,
            "grid_template_areas": null,
            "grid_template_columns": null,
            "grid_template_rows": null,
            "height": null,
            "justify_content": null,
            "justify_items": null,
            "left": null,
            "margin": null,
            "max_height": null,
            "max_width": null,
            "min_height": null,
            "min_width": null,
            "object_fit": null,
            "object_position": null,
            "order": null,
            "overflow": null,
            "overflow_x": null,
            "overflow_y": null,
            "padding": null,
            "right": null,
            "top": null,
            "visibility": null,
            "width": null
          }
        },
        "c3b4bb5cbda84fc2827547704e51d0f3": {
          "model_module": "@jupyter-widgets/controls",
          "model_module_version": "1.5.0",
          "model_name": "HTMLModel",
          "state": {
            "_dom_classes": [],
            "_model_module": "@jupyter-widgets/controls",
            "_model_module_version": "1.5.0",
            "_model_name": "HTMLModel",
            "_view_count": null,
            "_view_module": "@jupyter-widgets/controls",
            "_view_module_version": "1.5.0",
            "_view_name": "HTMLView",
            "description": "",
            "description_tooltip": null,
            "layout": "IPY_MODEL_559fac86334543c5b587332afba0aa84",
            "placeholder": "​",
            "style": "IPY_MODEL_9a4e867ef4b443a59e9025892e121be5",
            "value": "Map: 100%"
          }
        },
        "c66690606b4548afba0c1076f1517e96": {
          "model_module": "@jupyter-widgets/base",
          "model_module_version": "1.2.0",
          "model_name": "LayoutModel",
          "state": {
            "_model_module": "@jupyter-widgets/base",
            "_model_module_version": "1.2.0",
            "_model_name": "LayoutModel",
            "_view_count": null,
            "_view_module": "@jupyter-widgets/base",
            "_view_module_version": "1.2.0",
            "_view_name": "LayoutView",
            "align_content": null,
            "align_items": null,
            "align_self": null,
            "border": null,
            "bottom": null,
            "display": null,
            "flex": null,
            "flex_flow": null,
            "grid_area": null,
            "grid_auto_columns": null,
            "grid_auto_flow": null,
            "grid_auto_rows": null,
            "grid_column": null,
            "grid_gap": null,
            "grid_row": null,
            "grid_template_areas": null,
            "grid_template_columns": null,
            "grid_template_rows": null,
            "height": null,
            "justify_content": null,
            "justify_items": null,
            "left": null,
            "margin": null,
            "max_height": null,
            "max_width": null,
            "min_height": null,
            "min_width": null,
            "object_fit": null,
            "object_position": null,
            "order": null,
            "overflow": null,
            "overflow_x": null,
            "overflow_y": null,
            "padding": null,
            "right": null,
            "top": null,
            "visibility": null,
            "width": null
          }
        },
        "dd39bc533e8d41b48a6ca75fbf0268b9": {
          "model_module": "@jupyter-widgets/controls",
          "model_module_version": "1.5.0",
          "model_name": "FloatProgressModel",
          "state": {
            "_dom_classes": [],
            "_model_module": "@jupyter-widgets/controls",
            "_model_module_version": "1.5.0",
            "_model_name": "FloatProgressModel",
            "_view_count": null,
            "_view_module": "@jupyter-widgets/controls",
            "_view_module_version": "1.5.0",
            "_view_name": "ProgressView",
            "bar_style": "success",
            "description": "",
            "description_tooltip": null,
            "layout": "IPY_MODEL_778b33d9b4f8440d8c5f6f923a9ed088",
            "max": 1482030,
            "min": 0,
            "orientation": "horizontal",
            "style": "IPY_MODEL_31b43ad525d44a8aba20c1fdf77c9bcd",
            "value": 1482030
          }
        }
      }
    }
  },
  "nbformat": 4,
  "nbformat_minor": 0
}
