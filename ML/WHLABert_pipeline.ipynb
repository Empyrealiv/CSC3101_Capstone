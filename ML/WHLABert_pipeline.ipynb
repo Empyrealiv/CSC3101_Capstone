{
 "cells": [
  {
   "cell_type": "code",
   "execution_count": null,
   "metadata": {},
   "outputs": [],
   "source": [
    "import torch\n",
    "from transformers import BertTokenizer, BertModel\n",
    "from transformers import Trainer, TrainingArguments\n",
    "from datasets import load_dataset, Dataset\n",
    "\n",
    "RANDOM_SEED = 69"
   ]
  },
  {
   "cell_type": "code",
   "execution_count": null,
   "metadata": {},
   "outputs": [],
   "source": [
    "# Load custom dataset from CSV\n",
    "dataset = load_dataset('csv', data_files='Datasets/Cleaned/finetuning_dataset.csv')\n",
    "\n",
    "# Access the train split\n",
    "train_dataset = dataset['train']\n",
    "\n",
    "# Perform train-test split\n",
    "train_test_split = train_dataset.train_test_split(test_size=0.1)\n",
    "\n",
    "# Access the new splits\n",
    "train_dataset = train_test_split['train']\n",
    "eval_dataset = train_test_split['test']\n",
    "\n",
    "# Inspect the splits\n",
    "print(f\"Training size: {len(train_dataset)}, Evaluation size: {len(eval_dataset)}\")"
   ]
  },
  {
   "cell_type": "code",
   "execution_count": null,
   "metadata": {},
   "outputs": [],
   "source": [
    "# Load the dataset from CSV\n",
    "dataset = load_dataset('csv', data_files='Datasets/Cleaned/finetuning_dataset.csv')['train']\n",
    "\n",
    "# Take 10% of the dataset after shuffling\n",
    "sampled_dataset = dataset.shuffle(seed=42).select(range(int(len(dataset) * 0.1)))\n",
    "\n",
    "# Perform train-test split\n",
    "train_test_split = sampled_dataset.train_test_split(test_size=0.2, seed=42)\n",
    "train_dataset = train_test_split['train']\n",
    "eval_dataset = train_test_split['test']\n",
    "\n",
    "# Inspect the splits\n",
    "print(f\"Training size: {len(train_dataset)}, Evaluation size: {len(eval_dataset)}\")"
   ]
  },
  {
   "cell_type": "code",
   "execution_count": null,
   "metadata": {},
   "outputs": [],
   "source": [
    "# Check GPU availability\n",
    "device = torch.device(\"cuda\" if torch.cuda.is_available() else \"cpu\")\n",
    "print(f\"Using device: {device}\")"
   ]
  },
  {
   "cell_type": "code",
   "execution_count": 5,
   "metadata": {},
   "outputs": [],
   "source": [
    "import torch.nn as nn\n",
    "from torch.nn import CrossEntropyLoss\n",
    "\n",
    "class WHLA_BERT(nn.Module):\n",
    "    def __init__(self, pretrained_model=\"bert-base-uncased\", num_labels=2):\n",
    "        super(WHLA_BERT, self).__init__()\n",
    "        \n",
    "        # Load pre-trained BERT model\n",
    "        self.bert = BertModel.from_pretrained(pretrained_model, output_hidden_states=True)\n",
    "        self.hidden_size = self.bert.config.hidden_size\n",
    "        \n",
    "        # Learnable weights for H-SUM\n",
    "        self.w1 = nn.Parameter(torch.tensor(1.0))\n",
    "        self.w2 = nn.Parameter(torch.tensor(1.0))\n",
    "        \n",
    "        # Fully connected output layer\n",
    "        self.fc = nn.Linear(self.hidden_size, num_labels)\n",
    "        self.dropout = nn.Dropout(0.3)\n",
    "\n",
    "    def forward(self, input_ids, attention_mask, labels=2):\n",
    "        outputs = self.bert(input_ids=input_ids, attention_mask=attention_mask, return_dict=True)\n",
    "        hidden_states = outputs.hidden_states\n",
    "\n",
    "        # H-SUM Aggregation\n",
    "        L9 = hidden_states[-4]  # Layer 9\n",
    "        L10 = hidden_states[-3]  # Layer 10\n",
    "        L11 = hidden_states[-2]  # Layer 11\n",
    "        L12 = hidden_states[-1]  # Layer 12\n",
    "\n",
    "        aggregation_1 = L9 + L10\n",
    "        aggregation_2 = self.w1 * aggregation_1 + L11\n",
    "        final_aggregation = self.w2 * aggregation_2 + L12\n",
    "\n",
    "        cls_representation = final_aggregation[:, 0, :]\n",
    "\n",
    "        logits = self.fc(self.dropout(cls_representation))\n",
    "\n",
    "        if labels is not None:\n",
    "            loss_fct = CrossEntropyLoss()\n",
    "            loss = loss_fct(logits.view(-1, logits.size(-1)), labels.view(-1))\n",
    "            return {\"loss\": loss, \"logits\": logits}\n",
    "        return logits"
   ]
  },
  {
   "cell_type": "code",
   "execution_count": null,
   "metadata": {},
   "outputs": [],
   "source": [
    "import torch.nn as nn\n",
    "from torch.nn import CrossEntropyLoss\n",
    "\n",
    "class WHLA_BERT_NEW(nn.Module):\n",
    "    def __init__(self, pretrained_model=\"bert-base-uncased\", num_labels=2):\n",
    "        super(WHLA_BERT_NEW, self).__init__()\n",
    "        \n",
    "        # Load pre-trained BERT model\n",
    "        self.bert = BertModel.from_pretrained(pretrained_model, output_hidden_states=True)\n",
    "        self.hidden_size = self.bert.config.hidden_size\n",
    "        \n",
    "        # Learnable weights for H-SUM\n",
    "        self.w1 = nn.Parameter(torch.tensor(1.0))\n",
    "        self.w2 = nn.Parameter(torch.tensor(1.0))\n",
    "        \n",
    "        # Fully connected output layer\n",
    "        self.fc = nn.Linear(self.hidden_size, num_labels)\n",
    "        self.dropout = nn.Dropout(0.3)\n",
    "\n",
    "    def forward(self, input_ids, attention_mask, labels=2):\n",
    "        outputs = self.bert(input_ids=input_ids, attention_mask=attention_mask, return_dict=True)\n",
    "        hidden_states = outputs.hidden_states\n",
    "\n",
    "        # H-SUM Aggregation\n",
    "        L9 = hidden_states[-4]  # Layer 9\n",
    "        L10 = hidden_states[-3]  # Layer 10\n",
    "        L11 = hidden_states[-2]  # Layer 11\n",
    "        L12 = hidden_states[-1]  # Layer 12\n",
    "\n",
    "        aggregation_1 = L9 + L10\n",
    "        aggregation_2 = self.w1 * aggregation_1 + L11\n",
    "        final_aggregation = self.w2 * aggregation_2 + L12\n",
    "\n",
    "        cls_representation = final_aggregation[:, 0, :]\n",
    "\n",
    "        logits = self.fc(self.dropout(cls_representation))\n",
    "\n",
    "        if labels is not None:\n",
    "            loss_fct = CrossEntropyLoss()\n",
    "            loss = loss_fct(logits.view(-1, logits.size(-1)), labels.view(-1))\n",
    "            return {\"loss\": loss, \"logits\": logits}\n",
    "        return logits"
   ]
  },
  {
   "cell_type": "code",
   "execution_count": 6,
   "metadata": {},
   "outputs": [],
   "source": [
    "# Load Tokenizer and Model\n",
    "tokenizer = BertTokenizer.from_pretrained(\"bert-base-uncased\")\n",
    "model = WHLA_BERT(pretrained_model=\"bert-base-uncased\", num_labels=2)"
   ]
  },
  {
   "cell_type": "code",
   "execution_count": 7,
   "metadata": {},
   "outputs": [],
   "source": [
    "# Tokenize Dataset\n",
    "def tokenize_function(examples):\n",
    "    return tokenizer(examples[\"text\"], padding=\"max_length\", truncation=True, max_length=128)\n",
    "\n",
    "tokenized_train = train_dataset.map(tokenize_function, batched=True)\n",
    "tokenized_eval = eval_dataset.map(tokenize_function, batched=True)\n",
    "\n",
    "tokenized_train = tokenized_train.map(lambda examples: {'labels': torch.tensor(examples['polarity'], dtype=torch.long)})\n",
    "tokenized_eval = tokenized_eval.map(lambda examples: {'labels': torch.tensor(examples['polarity'], dtype=torch.long)})"
   ]
  },
  {
   "cell_type": "code",
   "execution_count": null,
   "metadata": {},
   "outputs": [],
   "source": [
    "tokenized_train"
   ]
  },
  {
   "cell_type": "code",
   "execution_count": null,
   "metadata": {},
   "outputs": [],
   "source": [
    "tokenized_eval"
   ]
  },
  {
   "cell_type": "code",
   "execution_count": null,
   "metadata": {},
   "outputs": [],
   "source": [
    "# Inspect the First Row of Tokenized Train Dataset\n",
    "row = tokenized_train[0]\n",
    "\n",
    "# Print `input_ids`\n",
    "print(\"Input IDs:\", row['input_ids'])\n",
    "\n",
    "# Decode Back to Text (Optional)\n",
    "decoded_text = tokenizer.decode(row['input_ids'], skip_special_tokens=True)\n",
    "print(\"Decoded Text:\", decoded_text)"
   ]
  },
  {
   "cell_type": "code",
   "execution_count": 11,
   "metadata": {},
   "outputs": [],
   "source": [
    "from sklearn.metrics import accuracy_score, precision_recall_fscore_support\n",
    "\n",
    "def compute_metrics(pred):\n",
    "    labels = pred.label_ids\n",
    "    preds = pred.predictions.argmax(-1)\n",
    "    precision, recall, f1, _ = precision_recall_fscore_support(labels, preds, average='binary')\n",
    "    acc = accuracy_score(labels, preds)\n",
    "    return {\n",
    "        'accuracy': acc,\n",
    "        'f1': f1,\n",
    "        'precision': precision,\n",
    "        'recall': recall\n",
    "    }"
   ]
  },
  {
   "cell_type": "code",
   "execution_count": 13,
   "metadata": {},
   "outputs": [],
   "source": [
    "batch_size = 16\n",
    "epochs = 2\n",
    "total_steps = (len(tokenized_train) // batch_size) * epochs"
   ]
  },
  {
   "cell_type": "code",
   "execution_count": null,
   "metadata": {},
   "outputs": [],
   "source": [
    "training_args = TrainingArguments(\n",
    "    output_dir=\"./whla_bert_results\",\n",
    "    evaluation_strategy=\"epoch\",\n",
    "    learning_rate=3e-5,\n",
    "    per_device_train_batch_size=16,\n",
    "    per_device_eval_batch_size=16,\n",
    "    num_train_epochs=epochs,\n",
    "    weight_decay=0.01,\n",
    "    warmup_steps=int(0.1 * total_steps),\n",
    "    save_strategy=\"epoch\",\n",
    "    save_total_limit=2,\n",
    "    logging_dir=\"./logs\",\n",
    "    report_to=\"none\",\n",
    "    logging_steps=500,\n",
    "    load_best_model_at_end=True,\n",
    ")\n",
    "\n",
    "trainer = Trainer(\n",
    "    model=model,\n",
    "    args=training_args,\n",
    "    train_dataset=tokenized_train,\n",
    "    eval_dataset=tokenized_eval,\n",
    "    tokenizer=tokenizer,\n",
    "    compute_metrics=compute_metrics\n",
    ")\n",
    "\n",
    "trainer.train()\n",
    "\n",
    "trainer.evaluate()\n",
    "\n",
    "model.save_pretrained('./WHLABert_sentiment_model')\n",
    "tokenizer.save_pretrained('./WHLABert_sentiment_model')"
   ]
  }
 ],
 "metadata": {
  "kernelspec": {
   "display_name": "Python 3",
   "language": "python",
   "name": "python3"
  },
  "language_info": {
   "codemirror_mode": {
    "name": "ipython",
    "version": 3
   },
   "file_extension": ".py",
   "mimetype": "text/x-python",
   "name": "python",
   "nbconvert_exporter": "python",
   "pygments_lexer": "ipython3",
   "version": "3.12.7"
  }
 },
 "nbformat": 4,
 "nbformat_minor": 2
}
