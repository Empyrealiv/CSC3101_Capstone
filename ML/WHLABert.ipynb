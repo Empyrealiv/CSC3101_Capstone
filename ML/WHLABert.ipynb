{
 "cells": [
  {
   "cell_type": "code",
   "execution_count": 1,
   "metadata": {},
   "outputs": [
    {
     "name": "stderr",
     "output_type": "stream",
     "text": [
      "c:\\Users\\rey32\\AppData\\Local\\Programs\\Python\\Python312\\Lib\\site-packages\\tqdm\\auto.py:21: TqdmWarning: IProgress not found. Please update jupyter and ipywidgets. See https://ipywidgets.readthedocs.io/en/stable/user_install.html\n",
      "  from .autonotebook import tqdm as notebook_tqdm\n"
     ]
    }
   ],
   "source": [
    "import torch\n",
    "import torch.nn as nn\n",
    "from torch.nn import CrossEntropyLoss\n",
    "from transformers import BertModel\n",
    "\n",
    "class WHLA_BERT(nn.Module):\n",
    "    def __init__(self, pretrained_model=\"bert-base-uncased\", num_labels=2):\n",
    "        super(WHLA_BERT, self).__init__()\n",
    "\n",
    "        self.bert = BertModel.from_pretrained(pretrained_model, output_hidden_states=True)\n",
    "        self.hidden_size = self.bert.config.hidden_size\n",
    "\n",
    "        self.w1 = nn.Parameter(torch.tensor(1.0))\n",
    "        self.w2 = nn.Parameter(torch.tensor(1.0))\n",
    "\n",
    "        self.fc = nn.Linear(self.hidden_size, num_labels)\n",
    "        self.dropout = nn.Dropout(0.7)\n",
    "        self.layer_norm = nn.LayerNorm(self.hidden_size)\n",
    "\n",
    "    def forward(self, input_ids, attention_mask, labels=None):\n",
    "        outputs = self.bert(input_ids=input_ids, attention_mask=attention_mask, return_dict=True)\n",
    "        hidden_states = outputs.hidden_states\n",
    "\n",
    "        L9 = hidden_states[-4]\n",
    "        L10 = hidden_states[-3]\n",
    "        L11 = hidden_states[-2]\n",
    "        L12 = hidden_states[-1]\n",
    "\n",
    "        self.gates = nn.Parameter(torch.ones(4))\n",
    "\n",
    "        weighted_sum = self.gates[0] * L9 + self.gates[1] * L10 + self.gates[2] * L11 + self.gates[3] * L12\n",
    "        normalized_sum = self.layer_norm(weighted_sum)\n",
    "        cls_representation = normalized_sum[:, 0, :]\n",
    "\n",
    "        logits = self.fc(self.dropout(cls_representation))\n",
    "\n",
    "        if labels is not None:\n",
    "            loss_fct = CrossEntropyLoss()\n",
    "            loss = loss_fct(logits.view(-1, logits.size(-1)), labels.view(-1))\n",
    "            return {\"loss\": loss, \"logits\": logits}\n",
    "        return logits"
   ]
  }
 ],
 "metadata": {
  "kernelspec": {
   "display_name": "Python 3",
   "language": "python",
   "name": "python3"
  },
  "language_info": {
   "codemirror_mode": {
    "name": "ipython",
    "version": 3
   },
   "file_extension": ".py",
   "mimetype": "text/x-python",
   "name": "python",
   "nbconvert_exporter": "python",
   "pygments_lexer": "ipython3",
   "version": "3.12.7"
  }
 },
 "nbformat": 4,
 "nbformat_minor": 2
}
