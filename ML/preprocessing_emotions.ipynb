{
 "cells": [
  {
   "cell_type": "code",
   "execution_count": 7,
   "metadata": {},
   "outputs": [],
   "source": [
    "import numpy as np\n",
    "import pandas as pd\n",
    "import matplotlib.pyplot as plt\n",
    "import re\n",
    "import emoji\n",
    "import datasets\n",
    "\n",
    "RANDOM_SEED = 69"
   ]
  },
  {
   "cell_type": "markdown",
   "metadata": {},
   "source": [
    "# Emotions dataset\n",
    "\n",
    "https://www.kaggle.com/datasets/nelgiriyewithana/emotions\n",
    "\n",
    "Emotion labels: sadness (0), joy (1), love (2), anger (3), fear (4), and surprise (5)."
   ]
  },
  {
   "cell_type": "code",
   "execution_count": 8,
   "metadata": {},
   "outputs": [],
   "source": [
    "def clean_tweet(tweet):\n",
    "    tweet = re.sub(r'http\\S+', '', tweet)  # Remove URLs\n",
    "    tweet = re.sub(r'@[A-Za-z0-9_]+', '', tweet)  # Remove @ mentions\n",
    "    tweet = re.sub(r'#[A-Za-z0-9_]+', '', tweet)  # Remove hashtags\n",
    "    tweet = re.sub(r'[^A-Za-z\\s.,!?;:\\'\\\"-]', '', tweet)  # Remove non-alphabetic characters\n",
    "    tweet = tweet.lower().strip()  # Lowercase and remove leading/trailing spaces\n",
    "    return tweet\n",
    "\n",
    "def clean_reddit_comment(comment):\n",
    "    comment = re.sub(r'http\\S+', '', comment)  # Remove URLs\n",
    "    comment = re.sub(r'(u\\/|r\\/)[A-Za-z0-9_]+', '', comment)  # Remove Reddit mentions\n",
    "    comment = re.sub(r'#[A-Za-z0-9_]+', '', comment)  # Remove hashtags\n",
    "    comment = re.sub(r'[^A-Za-z\\s.,!?;:\\'\\\"-]', '', comment)  # Remove non-alphabetic characters\n",
    "    comment = comment.lower().strip()  # Lowercase and remove leading/trailing spaces\n",
    "    return comment\n",
    "\n",
    "def clean_reddit_comment_with_emoji(comment):\n",
    "    comment = re.sub(r'http\\S+', '', comment)  # Remove URLs\n",
    "    comment = re.sub(r'(u\\/|r\\/)[A-Za-z0-9_]+', '', comment)  # Remove Reddit mentions\n",
    "    comment = re.sub(r'#[A-Za-z0-9_]+', '', comment)  # Remove hashtags\n",
    "    comment = ''.join(char for char in comment if char.isalnum() or char.isspace() or char in \".,!?;:\\'\\\"-()[]{}\" or emoji.is_emoji(char))  # Keep only alphanumeric characters, spaces, punctuation and emojis\n",
    "    comment = comment.lower().strip()  # Lowercase and remove leading/trailing spaces\n",
    "    return comment\n",
    "\n",
    "def clean_instagram_comment_without_emoji(comment):\n",
    "    comment = re.sub(r'http\\S+', '', comment)  # Remove URLs\n",
    "    comment = re.sub(r'@[A-Za-z0-9_]+', '', comment)  # Remove @ mentions\n",
    "    comment = re.sub(r'#[A-Za-z0-9_]+', '', comment)  # Remove hashtags\n",
    "    comment = re.sub(r'[^A-Za-z\\s.,!?;:\\'\\\"-]', '', comment)  # Remove non-alphabetic characters. currently also removing emojis, will change later\n",
    "    comment = comment.replace('\\n', ' ') # Replace newlines with spaces\n",
    "    comment = comment.lower().strip()  # Lowercase and remove leading/trailing spaces\n",
    "    return comment\n",
    "\n",
    "def clean_instagram_comment_with_emoji(comment):\n",
    "    comment = re.sub(r'http\\S+', '', comment)  # Remove URLs\n",
    "    comment = re.sub(r'@[A-Za-z0-9_]+', '', comment)  # Remove @ mentions\n",
    "    comment = re.sub(r'#[A-Za-z0-9_]+', '', comment)  # Remove hashtags\n",
    "    comment = ''.join(char for char in comment if char.isalnum() or char.isspace() or char in \".,!?;:'\\\"-()[]{}\" or emoji.is_emoji(char))  # Keep only alphanumeric characters, spaces, punctuation and emojis\n",
    "    comment = comment.replace('\\n', ' ')  # Replace newlines with spaces\n",
    "    comment = comment.lower().strip()  # Lowercase and remove leading/trailing spaces\n",
    "    return comment\n",
    "\n",
    "def clean_review(review):\n",
    "    review = re.sub(r'http\\S+', '', review)  # Remove URLs\n",
    "    review = re.sub(r'<.*?>', ' ', review)  # Remove HTML tags like <br />\n",
    "    review = re.sub(r'[^A-Za-z\\s.,!?;:\\'\\\"-]', '', review)  # Remove non-alphabetic characters\n",
    "    review = review.lower().strip()  # Lowercase and remove leading/trailing spaces\n",
    "    review = re.sub(r'\\s+', ' ', review)  # Replace multiple spaces with a single space\n",
    "    return review"
   ]
  },
  {
   "cell_type": "code",
   "execution_count": 18,
   "metadata": {},
   "outputs": [
    {
     "name": "stdout",
     "output_type": "stream",
     "text": [
      "Shape of emotions dataset: (416809, 2)\n"
     ]
    },
    {
     "data": {
      "text/html": [
       "<div>\n",
       "<style scoped>\n",
       "    .dataframe tbody tr th:only-of-type {\n",
       "        vertical-align: middle;\n",
       "    }\n",
       "\n",
       "    .dataframe tbody tr th {\n",
       "        vertical-align: top;\n",
       "    }\n",
       "\n",
       "    .dataframe thead th {\n",
       "        text-align: right;\n",
       "    }\n",
       "</style>\n",
       "<table border=\"1\" class=\"dataframe\">\n",
       "  <thead>\n",
       "    <tr style=\"text-align: right;\">\n",
       "      <th></th>\n",
       "      <th>text</th>\n",
       "      <th>label</th>\n",
       "    </tr>\n",
       "  </thead>\n",
       "  <tbody>\n",
       "    <tr>\n",
       "      <th>0</th>\n",
       "      <td>i just feel really helpless and heavy hearted</td>\n",
       "      <td>4</td>\n",
       "    </tr>\n",
       "    <tr>\n",
       "      <th>1</th>\n",
       "      <td>ive enjoyed being able to slouch about relax a...</td>\n",
       "      <td>0</td>\n",
       "    </tr>\n",
       "    <tr>\n",
       "      <th>2</th>\n",
       "      <td>i gave up my internship with the dmrg and am f...</td>\n",
       "      <td>4</td>\n",
       "    </tr>\n",
       "    <tr>\n",
       "      <th>3</th>\n",
       "      <td>i dont know i feel so lost</td>\n",
       "      <td>0</td>\n",
       "    </tr>\n",
       "    <tr>\n",
       "      <th>4</th>\n",
       "      <td>i am a kindergarten teacher and i am thoroughl...</td>\n",
       "      <td>4</td>\n",
       "    </tr>\n",
       "  </tbody>\n",
       "</table>\n",
       "</div>"
      ],
      "text/plain": [
       "                                                text  label\n",
       "0      i just feel really helpless and heavy hearted      4\n",
       "1  ive enjoyed being able to slouch about relax a...      0\n",
       "2  i gave up my internship with the dmrg and am f...      4\n",
       "3                         i dont know i feel so lost      0\n",
       "4  i am a kindergarten teacher and i am thoroughl...      4"
      ]
     },
     "execution_count": 18,
     "metadata": {},
     "output_type": "execute_result"
    }
   ],
   "source": [
    "emotions_data = pd.read_csv('Datasets/Original/emotions.csv')\n",
    "print(f\"Shape of emotions dataset: {emotions_data.shape}\")\n",
    "emotions_data.head()\n"
   ]
  },
  {
   "cell_type": "code",
   "execution_count": 19,
   "metadata": {},
   "outputs": [
    {
     "name": "stdout",
     "output_type": "stream",
     "text": [
      "Total number of empty or NaN entries in 'text' column: 0\n",
      "Shape of combined dataset before removing empty entries: (416809, 3)\n",
      "Shape of combined dataset after removing empty entries: (416809, 2)\n"
     ]
    }
   ],
   "source": [
    "emotions_data['is_text_empty'] = emotions_data['text'].apply(lambda x: pd.isnull(x) or x == \"\")\n",
    "empty_text_count = emotions_data['is_text_empty'].sum()\n",
    "print(\"Total number of empty or NaN entries in 'text' column:\", empty_text_count)\n",
    "print(\"Shape of combined dataset before removing empty entries:\", emotions_data.shape)\n",
    "\n",
    "emotions_data = emotions_data[emotions_data['text'].notna() & (emotions_data['text'] != \"\")]\n",
    "emotions_data = emotions_data.drop(['is_text_empty'], axis=1)\n",
    "print(\"Shape of combined dataset after removing empty entries:\", emotions_data.shape)"
   ]
  },
  {
   "cell_type": "code",
   "execution_count": 20,
   "metadata": {},
   "outputs": [],
   "source": [
    "def has_emojis(df, column):\n",
    "    \"\"\"\n",
    "    Check if a specific column in a pandas DataFrame contains emojis.\n",
    "\n",
    "    Args:\n",
    "        df (pd.DataFrame): The DataFrame to check.\n",
    "        column (str): The name of the column to check for emojis.\n",
    "\n",
    "    Returns:\n",
    "        pd.Series: A boolean Series indicating rows containing emojis.\n",
    "    \"\"\"\n",
    "    def contains_emoji(text):\n",
    "        # Check if text contains any emoji\n",
    "        return any(char in emoji.EMOJI_DATA for char in str(text))\n",
    "    \n",
    "    if column not in df.columns:\n",
    "        raise ValueError(f\"Column '{column}' not found in the DataFrame.\")\n",
    "    \n",
    "    return df[column].apply(contains_emoji)"
   ]
  },
  {
   "cell_type": "code",
   "execution_count": 21,
   "metadata": {},
   "outputs": [
    {
     "data": {
      "text/plain": [
       "has_emoji\n",
       "False    416809\n",
       "Name: count, dtype: int64"
      ]
     },
     "execution_count": 21,
     "metadata": {},
     "output_type": "execute_result"
    }
   ],
   "source": [
    "emotions_data_emoji = emotions_data.copy()\n",
    "emotions_data_emoji['has_emoji'] = has_emojis(emotions_data_emoji, 'text')\n",
    "emotions_data_emoji['has_emoji'].value_counts()"
   ]
  },
  {
   "cell_type": "code",
   "execution_count": 22,
   "metadata": {},
   "outputs": [
    {
     "data": {
      "image/png": "[encoded data removed]",
      "text/plain": [
       "<Figure size 640x480 with 1 Axes>"
      ]
     },
     "metadata": {},
     "output_type": "display_data"
    }
   ],
   "source": [
    "emotions_data['label'].value_counts().plot(kind='bar')\n",
    "plt.title('Distribution of emotions')\n",
    "plt.xlabel('Emotion')\n",
    "plt.ylabel('Count')\n",
    "plt.show()"
   ]
  },
  {
   "cell_type": "code",
   "execution_count": 23,
   "metadata": {},
   "outputs": [
    {
     "data": {
      "text/html": [
       "<div>\n",
       "<style scoped>\n",
       "    .dataframe tbody tr th:only-of-type {\n",
       "        vertical-align: middle;\n",
       "    }\n",
       "\n",
       "    .dataframe tbody tr th {\n",
       "        vertical-align: top;\n",
       "    }\n",
       "\n",
       "    .dataframe thead th {\n",
       "        text-align: right;\n",
       "    }\n",
       "</style>\n",
       "<table border=\"1\" class=\"dataframe\">\n",
       "  <thead>\n",
       "    <tr style=\"text-align: right;\">\n",
       "      <th></th>\n",
       "      <th>text</th>\n",
       "      <th>polarity</th>\n",
       "      <th>source</th>\n",
       "    </tr>\n",
       "  </thead>\n",
       "  <tbody>\n",
       "    <tr>\n",
       "      <th>0</th>\n",
       "      <td>i just feel really helpless and heavy hearted</td>\n",
       "      <td>4</td>\n",
       "      <td>Twitter</td>\n",
       "    </tr>\n",
       "    <tr>\n",
       "      <th>1</th>\n",
       "      <td>ive enjoyed being able to slouch about relax a...</td>\n",
       "      <td>0</td>\n",
       "      <td>Twitter</td>\n",
       "    </tr>\n",
       "    <tr>\n",
       "      <th>2</th>\n",
       "      <td>i gave up my internship with the dmrg and am f...</td>\n",
       "      <td>4</td>\n",
       "      <td>Twitter</td>\n",
       "    </tr>\n",
       "    <tr>\n",
       "      <th>3</th>\n",
       "      <td>i dont know i feel so lost</td>\n",
       "      <td>0</td>\n",
       "      <td>Twitter</td>\n",
       "    </tr>\n",
       "    <tr>\n",
       "      <th>4</th>\n",
       "      <td>i am a kindergarten teacher and i am thoroughl...</td>\n",
       "      <td>4</td>\n",
       "      <td>Twitter</td>\n",
       "    </tr>\n",
       "  </tbody>\n",
       "</table>\n",
       "</div>"
      ],
      "text/plain": [
       "                                                text  polarity   source\n",
       "0      i just feel really helpless and heavy hearted         4  Twitter\n",
       "1  ive enjoyed being able to slouch about relax a...         0  Twitter\n",
       "2  i gave up my internship with the dmrg and am f...         4  Twitter\n",
       "3                         i dont know i feel so lost         0  Twitter\n",
       "4  i am a kindergarten teacher and i am thoroughl...         4  Twitter"
      ]
     },
     "execution_count": 23,
     "metadata": {},
     "output_type": "execute_result"
    }
   ],
   "source": [
    "emotions_data = emotions_data.rename(columns={'label': 'polarity'})\n",
    "emotions_data['source'] = 'Twitter'\n",
    "emotions_data.head()"
   ]
  },
  {
   "cell_type": "code",
   "execution_count": 24,
   "metadata": {},
   "outputs": [
    {
     "data": {
      "text/html": [
       "<div>\n",
       "<style scoped>\n",
       "    .dataframe tbody tr th:only-of-type {\n",
       "        vertical-align: middle;\n",
       "    }\n",
       "\n",
       "    .dataframe tbody tr th {\n",
       "        vertical-align: top;\n",
       "    }\n",
       "\n",
       "    .dataframe thead th {\n",
       "        text-align: right;\n",
       "    }\n",
       "</style>\n",
       "<table border=\"1\" class=\"dataframe\">\n",
       "  <thead>\n",
       "    <tr style=\"text-align: right;\">\n",
       "      <th></th>\n",
       "      <th>text</th>\n",
       "      <th>polarity</th>\n",
       "      <th>source</th>\n",
       "    </tr>\n",
       "  </thead>\n",
       "  <tbody>\n",
       "    <tr>\n",
       "      <th>0</th>\n",
       "      <td>i just feel really helpless and heavy hearted</td>\n",
       "      <td>4</td>\n",
       "      <td>Twitter</td>\n",
       "    </tr>\n",
       "    <tr>\n",
       "      <th>1</th>\n",
       "      <td>ive enjoyed being able to slouch about relax a...</td>\n",
       "      <td>0</td>\n",
       "      <td>Twitter</td>\n",
       "    </tr>\n",
       "    <tr>\n",
       "      <th>2</th>\n",
       "      <td>i gave up my internship with the dmrg and am f...</td>\n",
       "      <td>4</td>\n",
       "      <td>Twitter</td>\n",
       "    </tr>\n",
       "    <tr>\n",
       "      <th>3</th>\n",
       "      <td>i dont know i feel so lost</td>\n",
       "      <td>0</td>\n",
       "      <td>Twitter</td>\n",
       "    </tr>\n",
       "    <tr>\n",
       "      <th>4</th>\n",
       "      <td>i am a kindergarten teacher and i am thoroughl...</td>\n",
       "      <td>4</td>\n",
       "      <td>Twitter</td>\n",
       "    </tr>\n",
       "  </tbody>\n",
       "</table>\n",
       "</div>"
      ],
      "text/plain": [
       "                                                text  polarity   source\n",
       "0      i just feel really helpless and heavy hearted         4  Twitter\n",
       "1  ive enjoyed being able to slouch about relax a...         0  Twitter\n",
       "2  i gave up my internship with the dmrg and am f...         4  Twitter\n",
       "3                         i dont know i feel so lost         0  Twitter\n",
       "4  i am a kindergarten teacher and i am thoroughl...         4  Twitter"
      ]
     },
     "execution_count": 24,
     "metadata": {},
     "output_type": "execute_result"
    }
   ],
   "source": [
    "emotions_data['text'] = emotions_data['text'].apply(clean_tweet)\n",
    "emotions_data.head()"
   ]
  },
  {
   "cell_type": "code",
   "execution_count": 29,
   "metadata": {},
   "outputs": [],
   "source": [
    "from transformers import BertTokenizer\n",
    "\n",
    "tokenizer = BertTokenizer.from_pretrained('bert-base-uncased')\n",
    "\n",
    "# Compute token lengths\n",
    "def compute_token_length(text):\n",
    "    encoded = tokenizer.encode(text, add_special_tokens=True)\n",
    "    return len(encoded)\n",
    "\n",
    "emotions_data['token_length'] = emotions_data['text'].apply(compute_token_length)"
   ]
  },
  {
   "cell_type": "code",
   "execution_count": 30,
   "metadata": {},
   "outputs": [
    {
     "name": "stdout",
     "output_type": "stream",
     "text": [
      "Number of entries exceeding 0 tokens: 416809\n",
      "Number of entries exceeding 100 tokens: 6\n",
      "Number of entries exceeding 200 tokens: 0\n",
      "Number of entries exceeding 300 tokens: 0\n",
      "Number of entries exceeding 400 tokens: 0\n",
      "Number of entries exceeding 500 tokens: 0\n"
     ]
    }
   ],
   "source": [
    "# Count entries exceeding thresholds\n",
    "execeed_0 = len(emotions_data[emotions_data['token_length'] > 0])\n",
    "exceed_100 = len(emotions_data[emotions_data['token_length'] > 100])\n",
    "exceed_200 = len(emotions_data[emotions_data['token_length'] > 200])\n",
    "exceed_300 = len(emotions_data[emotions_data['token_length'] > 300])\n",
    "exceed_400 = len(emotions_data[emotions_data['token_length'] > 400])\n",
    "exceed_500 = len(emotions_data[emotions_data['token_length'] > 500])\n",
    "\n",
    "print(f\"Number of entries exceeding 0 tokens: {execeed_0}\")\n",
    "print(f\"Number of entries exceeding 100 tokens: {exceed_100}\")\n",
    "print(f\"Number of entries exceeding 200 tokens: {exceed_200}\")\n",
    "print(f\"Number of entries exceeding 300 tokens: {exceed_300}\")\n",
    "print(f\"Number of entries exceeding 400 tokens: {exceed_400}\")\n",
    "print(f\"Number of entries exceeding 500 tokens: {exceed_500}\")"
   ]
  },
  {
   "cell_type": "code",
   "execution_count": 32,
   "metadata": {},
   "outputs": [],
   "source": [
    "emotions_data.to_csv('Datasets/Cleaned with tokens/emotions_dataset.csv', encoding='utf-8', index=False)"
   ]
  }
 ],
 "metadata": {
  "kernelspec": {
   "display_name": "Python 3",
   "language": "python",
   "name": "python3"
  },
  "language_info": {
   "codemirror_mode": {
    "name": "ipython",
    "version": 3
   },
   "file_extension": ".py",
   "mimetype": "text/x-python",
   "name": "python",
   "nbconvert_exporter": "python",
   "pygments_lexer": "ipython3",
   "version": "3.12.7"
  }
 },
 "nbformat": 4,
 "nbformat_minor": 2
}
