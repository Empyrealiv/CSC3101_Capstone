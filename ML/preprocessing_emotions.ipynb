{
 "cells": [
  {
   "cell_type": "code",
   "execution_count": 1,
   "metadata": {},
   "outputs": [
    {
     "name": "stderr",
     "output_type": "stream",
     "text": [
      "c:\\Users\\rey32\\AppData\\Local\\Programs\\Python\\Python312\\Lib\\site-packages\\tqdm\\auto.py:21: TqdmWarning: IProgress not found. Please update jupyter and ipywidgets. See https://ipywidgets.readthedocs.io/en/stable/user_install.html\n",
      "  from .autonotebook import tqdm as notebook_tqdm\n"
     ]
    }
   ],
   "source": [
    "import pandas as pd\n",
    "import matplotlib.pyplot as plt\n",
    "import re\n",
    "import emoji\n",
    "import datasets\n",
    "\n",
    "RANDOM_SEED = 69"
   ]
  },
  {
   "cell_type": "code",
   "execution_count": 13,
   "metadata": {},
   "outputs": [],
   "source": [
    "def clean_tweet(tweet):\n",
    "    tweet = re.sub(r'http\\S+', '', tweet)  # Remove URLs\n",
    "    tweet = re.sub(r'@[A-Za-z0-9_]+', '', tweet)  # Remove @ mentions\n",
    "    tweet = re.sub(r'#[A-Za-z0-9_]+', '', tweet)  # Remove hashtags\n",
    "    tweet = re.sub(r'[^A-Za-z\\s.,!?;:\\'\\\"-]', '', tweet)  # Remove non-alphabetic characters\n",
    "    tweet = tweet.lower().strip()  # Lowercase and remove leading/trailing spaces\n",
    "    return tweet\n",
    "\n",
    "def clean_reddit_comment(comment):\n",
    "    comment = re.sub(r'http\\S+', '', comment)  # Remove URLs\n",
    "    comment = re.sub(r'(u\\/|r\\/)[A-Za-z0-9_]+', '', comment)  # Remove Reddit mentions\n",
    "    comment = re.sub(r'#[A-Za-z0-9_]+', '', comment)  # Remove hashtags\n",
    "    comment = re.sub(r'[^A-Za-z\\s.,!?;:\\'\\\"-]', '', comment)  # Remove non-alphabetic characters\n",
    "    comment = comment.lower().strip()  # Lowercase and remove leading/trailing spaces\n",
    "    return comment\n",
    "\n",
    "def clean_reddit_comment_with_emoji(comment):\n",
    "    comment = re.sub(r'http\\S+', '', comment)  # Remove URLs\n",
    "    comment = re.sub(r'(u\\/|r\\/)[A-Za-z0-9_]+', '', comment)  # Remove Reddit mentions\n",
    "    comment = re.sub(r'#[A-Za-z0-9_]+', '', comment)  # Remove hashtags\n",
    "    comment = ''.join(char for char in comment if char.isalnum() or char.isspace() or char in \".,!?;:\\'\\\"-()[]{}\" or emoji.is_emoji(char))  # Keep only alphanumeric characters, spaces, punctuation and emojis\n",
    "    comment = comment.lower().strip()  # Lowercase and remove leading/trailing spaces\n",
    "    return comment\n",
    "\n",
    "def clean_instagram_comment_without_emoji(comment):\n",
    "    comment = re.sub(r'http\\S+', '', comment)  # Remove URLs\n",
    "    comment = re.sub(r'@[A-Za-z0-9_]+', '', comment)  # Remove @ mentions\n",
    "    comment = re.sub(r'#[A-Za-z0-9_]+', '', comment)  # Remove hashtags\n",
    "    comment = re.sub(r'[^A-Za-z\\s.,!?;:\\'\\\"-]', '', comment)  # Remove non-alphabetic characters. currently also removing emojis, will change later\n",
    "    comment = comment.replace('\\n', ' ') # Replace newlines with spaces\n",
    "    comment = comment.lower().strip()  # Lowercase and remove leading/trailing spaces\n",
    "    return comment\n",
    "\n",
    "def clean_instagram_comment_with_emoji(comment):\n",
    "    comment = re.sub(r'http\\S+', '', comment)  # Remove URLs\n",
    "    comment = re.sub(r'@[A-Za-z0-9_]+', '', comment)  # Remove @ mentions\n",
    "    comment = re.sub(r'#[A-Za-z0-9_]+', '', comment)  # Remove hashtags\n",
    "    comment = ''.join(char for char in comment if char.isalnum() or char.isspace() or char in \".,!?;:'\\\"-()[]{}\" or emoji.is_emoji(char))  # Keep only alphanumeric characters, spaces, punctuation and emojis\n",
    "    comment = comment.replace('\\n', ' ')  # Replace newlines with spaces\n",
    "    comment = comment.lower().strip()  # Lowercase and remove leading/trailing spaces\n",
    "    return comment\n",
    "\n",
    "def clean_review(review):\n",
    "    review = re.sub(r'http\\S+', '', review)  # Remove URLs\n",
    "    review = re.sub(r'<.*?>', ' ', review)  # Remove HTML tags like <br />\n",
    "    review = re.sub(r'[^A-Za-z\\s.,!?;:\\'\\\"-]', '', review)  # Remove non-alphabetic characters\n",
    "    review = review.lower().strip()  # Lowercase and remove leading/trailing spaces\n",
    "    review = re.sub(r'\\s+', ' ', review)  # Replace multiple spaces with a single space\n",
    "    return review"
   ]
  },
  {
   "cell_type": "markdown",
   "metadata": {},
   "source": [
    "# Emotions dataset\n",
    "\n",
    "https://www.kaggle.com/datasets/nelgiriyewithana/emotions\n",
    "\n",
    "Emotion labels: sadness (0), joy (1), love (2), anger (3), fear (4), and surprise (5)."
   ]
  },
  {
   "cell_type": "code",
   "execution_count": 2,
   "metadata": {},
   "outputs": [
    {
     "name": "stdout",
     "output_type": "stream",
     "text": [
      "Shape of emotions dataset: (416809, 2)\n"
     ]
    },
    {
     "data": {
      "text/html": [
       "<div>\n",
       "<style scoped>\n",
       "    .dataframe tbody tr th:only-of-type {\n",
       "        vertical-align: middle;\n",
       "    }\n",
       "\n",
       "    .dataframe tbody tr th {\n",
       "        vertical-align: top;\n",
       "    }\n",
       "\n",
       "    .dataframe thead th {\n",
       "        text-align: right;\n",
       "    }\n",
       "</style>\n",
       "<table border=\"1\" class=\"dataframe\">\n",
       "  <thead>\n",
       "    <tr style=\"text-align: right;\">\n",
       "      <th></th>\n",
       "      <th>text</th>\n",
       "      <th>label</th>\n",
       "    </tr>\n",
       "  </thead>\n",
       "  <tbody>\n",
       "    <tr>\n",
       "      <th>0</th>\n",
       "      <td>i just feel really helpless and heavy hearted</td>\n",
       "      <td>4</td>\n",
       "    </tr>\n",
       "    <tr>\n",
       "      <th>1</th>\n",
       "      <td>ive enjoyed being able to slouch about relax a...</td>\n",
       "      <td>0</td>\n",
       "    </tr>\n",
       "    <tr>\n",
       "      <th>2</th>\n",
       "      <td>i gave up my internship with the dmrg and am f...</td>\n",
       "      <td>4</td>\n",
       "    </tr>\n",
       "    <tr>\n",
       "      <th>3</th>\n",
       "      <td>i dont know i feel so lost</td>\n",
       "      <td>0</td>\n",
       "    </tr>\n",
       "    <tr>\n",
       "      <th>4</th>\n",
       "      <td>i am a kindergarten teacher and i am thoroughl...</td>\n",
       "      <td>4</td>\n",
       "    </tr>\n",
       "  </tbody>\n",
       "</table>\n",
       "</div>"
      ],
      "text/plain": [
       "                                                text  label\n",
       "0      i just feel really helpless and heavy hearted      4\n",
       "1  ive enjoyed being able to slouch about relax a...      0\n",
       "2  i gave up my internship with the dmrg and am f...      4\n",
       "3                         i dont know i feel so lost      0\n",
       "4  i am a kindergarten teacher and i am thoroughl...      4"
      ]
     },
     "execution_count": 2,
     "metadata": {},
     "output_type": "execute_result"
    }
   ],
   "source": [
    "emotions_data = pd.read_csv('Datasets/Original/emotions.csv')\n",
    "print(f\"Shape of emotions dataset: {emotions_data.shape}\")\n",
    "emotions_data.head()\n"
   ]
  },
  {
   "cell_type": "code",
   "execution_count": 4,
   "metadata": {},
   "outputs": [
    {
     "data": {
      "text/html": [
       "<div>\n",
       "<style scoped>\n",
       "    .dataframe tbody tr th:only-of-type {\n",
       "        vertical-align: middle;\n",
       "    }\n",
       "\n",
       "    .dataframe tbody tr th {\n",
       "        vertical-align: top;\n",
       "    }\n",
       "\n",
       "    .dataframe thead th {\n",
       "        text-align: right;\n",
       "    }\n",
       "</style>\n",
       "<table border=\"1\" class=\"dataframe\">\n",
       "  <thead>\n",
       "    <tr style=\"text-align: right;\">\n",
       "      <th></th>\n",
       "      <th>text</th>\n",
       "      <th>label</th>\n",
       "      <th>emotion_name</th>\n",
       "    </tr>\n",
       "  </thead>\n",
       "  <tbody>\n",
       "    <tr>\n",
       "      <th>0</th>\n",
       "      <td>i just feel really helpless and heavy hearted</td>\n",
       "      <td>4</td>\n",
       "      <td>Fear</td>\n",
       "    </tr>\n",
       "    <tr>\n",
       "      <th>1</th>\n",
       "      <td>ive enjoyed being able to slouch about relax a...</td>\n",
       "      <td>0</td>\n",
       "      <td>Sadness</td>\n",
       "    </tr>\n",
       "    <tr>\n",
       "      <th>2</th>\n",
       "      <td>i gave up my internship with the dmrg and am f...</td>\n",
       "      <td>4</td>\n",
       "      <td>Fear</td>\n",
       "    </tr>\n",
       "    <tr>\n",
       "      <th>3</th>\n",
       "      <td>i dont know i feel so lost</td>\n",
       "      <td>0</td>\n",
       "      <td>Sadness</td>\n",
       "    </tr>\n",
       "    <tr>\n",
       "      <th>4</th>\n",
       "      <td>i am a kindergarten teacher and i am thoroughl...</td>\n",
       "      <td>4</td>\n",
       "      <td>Fear</td>\n",
       "    </tr>\n",
       "    <tr>\n",
       "      <th>...</th>\n",
       "      <td>...</td>\n",
       "      <td>...</td>\n",
       "      <td>...</td>\n",
       "    </tr>\n",
       "    <tr>\n",
       "      <th>416804</th>\n",
       "      <td>i feel like telling these horny devils to find...</td>\n",
       "      <td>2</td>\n",
       "      <td>Love</td>\n",
       "    </tr>\n",
       "    <tr>\n",
       "      <th>416805</th>\n",
       "      <td>i began to realize that when i was feeling agi...</td>\n",
       "      <td>3</td>\n",
       "      <td>Anger</td>\n",
       "    </tr>\n",
       "    <tr>\n",
       "      <th>416806</th>\n",
       "      <td>i feel very curious be why previous early dawn...</td>\n",
       "      <td>5</td>\n",
       "      <td>Surprise</td>\n",
       "    </tr>\n",
       "    <tr>\n",
       "      <th>416807</th>\n",
       "      <td>i feel that becuase of the tyranical nature of...</td>\n",
       "      <td>3</td>\n",
       "      <td>Anger</td>\n",
       "    </tr>\n",
       "    <tr>\n",
       "      <th>416808</th>\n",
       "      <td>i think that after i had spent some time inves...</td>\n",
       "      <td>5</td>\n",
       "      <td>Surprise</td>\n",
       "    </tr>\n",
       "  </tbody>\n",
       "</table>\n",
       "<p>416809 rows × 3 columns</p>\n",
       "</div>"
      ],
      "text/plain": [
       "                                                     text  label emotion_name\n",
       "0           i just feel really helpless and heavy hearted      4         Fear\n",
       "1       ive enjoyed being able to slouch about relax a...      0      Sadness\n",
       "2       i gave up my internship with the dmrg and am f...      4         Fear\n",
       "3                              i dont know i feel so lost      0      Sadness\n",
       "4       i am a kindergarten teacher and i am thoroughl...      4         Fear\n",
       "...                                                   ...    ...          ...\n",
       "416804  i feel like telling these horny devils to find...      2         Love\n",
       "416805  i began to realize that when i was feeling agi...      3        Anger\n",
       "416806  i feel very curious be why previous early dawn...      5     Surprise\n",
       "416807  i feel that becuase of the tyranical nature of...      3        Anger\n",
       "416808  i think that after i had spent some time inves...      5     Surprise\n",
       "\n",
       "[416809 rows x 3 columns]"
      ]
     },
     "execution_count": 4,
     "metadata": {},
     "output_type": "execute_result"
    }
   ],
   "source": [
    "emotion_mapping = {\n",
    "    0: 'Sadness',\n",
    "    1: 'Joy',\n",
    "    2: 'Love',\n",
    "    3: 'Anger',\n",
    "    4: 'Fear',\n",
    "    5: 'Surprise'\n",
    "}\n",
    "\n",
    "emotions_data['emotion_name'] = emotions_data['label'].map(emotion_mapping)\n",
    "\n",
    "emotions_data"
   ]
  },
  {
   "cell_type": "code",
   "execution_count": 19,
   "metadata": {},
   "outputs": [
    {
     "name": "stdout",
     "output_type": "stream",
     "text": [
      "Total number of empty or NaN entries in 'text' column: 0\n",
      "Shape of combined dataset before removing empty entries: (416809, 3)\n",
      "Shape of combined dataset after removing empty entries: (416809, 2)\n"
     ]
    }
   ],
   "source": [
    "emotions_data['is_text_empty'] = emotions_data['text'].apply(lambda x: pd.isnull(x) or x == \"\")\n",
    "empty_text_count = emotions_data['is_text_empty'].sum()\n",
    "print(\"Total number of empty or NaN entries in 'text' column:\", empty_text_count)\n",
    "print(\"Shape of combined dataset before removing empty entries:\", emotions_data.shape)\n",
    "\n",
    "emotions_data = emotions_data[emotions_data['text'].notna() & (emotions_data['text'] != \"\")]\n",
    "emotions_data = emotions_data.drop(['is_text_empty'], axis=1)\n",
    "print(\"Shape of combined dataset after removing empty entries:\", emotions_data.shape)"
   ]
  },
  {
   "cell_type": "code",
   "execution_count": 20,
   "metadata": {},
   "outputs": [],
   "source": [
    "def has_emojis(df, column):\n",
    "    \"\"\"\n",
    "    Check if a specific column in a pandas DataFrame contains emojis.\n",
    "\n",
    "    Args:\n",
    "        df (pd.DataFrame): The DataFrame to check.\n",
    "        column (str): The name of the column to check for emojis.\n",
    "\n",
    "    Returns:\n",
    "        pd.Series: A boolean Series indicating rows containing emojis.\n",
    "    \"\"\"\n",
    "    def contains_emoji(text):\n",
    "        # Check if text contains any emoji\n",
    "        return any(char in emoji.EMOJI_DATA for char in str(text))\n",
    "    \n",
    "    if column not in df.columns:\n",
    "        raise ValueError(f\"Column '{column}' not found in the DataFrame.\")\n",
    "    \n",
    "    return df[column].apply(contains_emoji)"
   ]
  },
  {
   "cell_type": "code",
   "execution_count": 21,
   "metadata": {},
   "outputs": [
    {
     "data": {
      "text/plain": [
       "has_emoji\n",
       "False    416809\n",
       "Name: count, dtype: int64"
      ]
     },
     "execution_count": 21,
     "metadata": {},
     "output_type": "execute_result"
    }
   ],
   "source": [
    "emotions_data_emoji = emotions_data.copy()\n",
    "emotions_data_emoji['has_emoji'] = has_emojis(emotions_data_emoji, 'text')\n",
    "emotions_data_emoji['has_emoji'].value_counts()"
   ]
  },
  {
   "cell_type": "code",
   "execution_count": 8,
   "metadata": {},
   "outputs": [
    {
     "data": {
      "image/png": "[encoded data removed]",
      "text/plain": [
       "<Figure size 640x480 with 1 Axes>"
      ]
     },
     "metadata": {},
     "output_type": "display_data"
    }
   ],
   "source": [
    "source_counts = emotions_data['emotion_name'].value_counts()\n",
    "\n",
    "colors = ['#4e79a7', '#f28e2c', '#e15759', '#76b7b2', '#59a14f', \n",
    "          '#edc949', '#af7aa1', '#ff9da7', '#9c755f', '#bab0ab']\n",
    "\n",
    "plt.bar(source_counts.index, source_counts.values, color=colors[:len(source_counts)])\n",
    "plt.title('Distribution of emotion')\n",
    "plt.xlabel('Emotion')\n",
    "plt.ylabel('Data Count')\n",
    "plt.show()"
   ]
  },
  {
   "cell_type": "code",
   "execution_count": 9,
   "metadata": {},
   "outputs": [
    {
     "data": {
      "text/plain": [
       "label\n",
       "1    141067\n",
       "0    121187\n",
       "3     57317\n",
       "4     47712\n",
       "2     34554\n",
       "5     14972\n",
       "Name: count, dtype: int64"
      ]
     },
     "execution_count": 9,
     "metadata": {},
     "output_type": "execute_result"
    }
   ],
   "source": [
    "emotions_data['label'].value_counts()"
   ]
  },
  {
   "cell_type": "code",
   "execution_count": 23,
   "metadata": {},
   "outputs": [
    {
     "data": {
      "text/html": [
       "<div>\n",
       "<style scoped>\n",
       "    .dataframe tbody tr th:only-of-type {\n",
       "        vertical-align: middle;\n",
       "    }\n",
       "\n",
       "    .dataframe tbody tr th {\n",
       "        vertical-align: top;\n",
       "    }\n",
       "\n",
       "    .dataframe thead th {\n",
       "        text-align: right;\n",
       "    }\n",
       "</style>\n",
       "<table border=\"1\" class=\"dataframe\">\n",
       "  <thead>\n",
       "    <tr style=\"text-align: right;\">\n",
       "      <th></th>\n",
       "      <th>text</th>\n",
       "      <th>polarity</th>\n",
       "      <th>source</th>\n",
       "    </tr>\n",
       "  </thead>\n",
       "  <tbody>\n",
       "    <tr>\n",
       "      <th>0</th>\n",
       "      <td>i just feel really helpless and heavy hearted</td>\n",
       "      <td>4</td>\n",
       "      <td>Twitter</td>\n",
       "    </tr>\n",
       "    <tr>\n",
       "      <th>1</th>\n",
       "      <td>ive enjoyed being able to slouch about relax a...</td>\n",
       "      <td>0</td>\n",
       "      <td>Twitter</td>\n",
       "    </tr>\n",
       "    <tr>\n",
       "      <th>2</th>\n",
       "      <td>i gave up my internship with the dmrg and am f...</td>\n",
       "      <td>4</td>\n",
       "      <td>Twitter</td>\n",
       "    </tr>\n",
       "    <tr>\n",
       "      <th>3</th>\n",
       "      <td>i dont know i feel so lost</td>\n",
       "      <td>0</td>\n",
       "      <td>Twitter</td>\n",
       "    </tr>\n",
       "    <tr>\n",
       "      <th>4</th>\n",
       "      <td>i am a kindergarten teacher and i am thoroughl...</td>\n",
       "      <td>4</td>\n",
       "      <td>Twitter</td>\n",
       "    </tr>\n",
       "  </tbody>\n",
       "</table>\n",
       "</div>"
      ],
      "text/plain": [
       "                                                text  polarity   source\n",
       "0      i just feel really helpless and heavy hearted         4  Twitter\n",
       "1  ive enjoyed being able to slouch about relax a...         0  Twitter\n",
       "2  i gave up my internship with the dmrg and am f...         4  Twitter\n",
       "3                         i dont know i feel so lost         0  Twitter\n",
       "4  i am a kindergarten teacher and i am thoroughl...         4  Twitter"
      ]
     },
     "execution_count": 23,
     "metadata": {},
     "output_type": "execute_result"
    }
   ],
   "source": [
    "emotions_data = emotions_data.rename(columns={'label': 'polarity'})\n",
    "emotions_data['source'] = 'Twitter'\n",
    "emotions_data.head()"
   ]
  },
  {
   "cell_type": "code",
   "execution_count": 24,
   "metadata": {},
   "outputs": [
    {
     "data": {
      "text/html": [
       "<div>\n",
       "<style scoped>\n",
       "    .dataframe tbody tr th:only-of-type {\n",
       "        vertical-align: middle;\n",
       "    }\n",
       "\n",
       "    .dataframe tbody tr th {\n",
       "        vertical-align: top;\n",
       "    }\n",
       "\n",
       "    .dataframe thead th {\n",
       "        text-align: right;\n",
       "    }\n",
       "</style>\n",
       "<table border=\"1\" class=\"dataframe\">\n",
       "  <thead>\n",
       "    <tr style=\"text-align: right;\">\n",
       "      <th></th>\n",
       "      <th>text</th>\n",
       "      <th>polarity</th>\n",
       "      <th>source</th>\n",
       "    </tr>\n",
       "  </thead>\n",
       "  <tbody>\n",
       "    <tr>\n",
       "      <th>0</th>\n",
       "      <td>i just feel really helpless and heavy hearted</td>\n",
       "      <td>4</td>\n",
       "      <td>Twitter</td>\n",
       "    </tr>\n",
       "    <tr>\n",
       "      <th>1</th>\n",
       "      <td>ive enjoyed being able to slouch about relax a...</td>\n",
       "      <td>0</td>\n",
       "      <td>Twitter</td>\n",
       "    </tr>\n",
       "    <tr>\n",
       "      <th>2</th>\n",
       "      <td>i gave up my internship with the dmrg and am f...</td>\n",
       "      <td>4</td>\n",
       "      <td>Twitter</td>\n",
       "    </tr>\n",
       "    <tr>\n",
       "      <th>3</th>\n",
       "      <td>i dont know i feel so lost</td>\n",
       "      <td>0</td>\n",
       "      <td>Twitter</td>\n",
       "    </tr>\n",
       "    <tr>\n",
       "      <th>4</th>\n",
       "      <td>i am a kindergarten teacher and i am thoroughl...</td>\n",
       "      <td>4</td>\n",
       "      <td>Twitter</td>\n",
       "    </tr>\n",
       "  </tbody>\n",
       "</table>\n",
       "</div>"
      ],
      "text/plain": [
       "                                                text  polarity   source\n",
       "0      i just feel really helpless and heavy hearted         4  Twitter\n",
       "1  ive enjoyed being able to slouch about relax a...         0  Twitter\n",
       "2  i gave up my internship with the dmrg and am f...         4  Twitter\n",
       "3                         i dont know i feel so lost         0  Twitter\n",
       "4  i am a kindergarten teacher and i am thoroughl...         4  Twitter"
      ]
     },
     "execution_count": 24,
     "metadata": {},
     "output_type": "execute_result"
    }
   ],
   "source": [
    "emotions_data['text'] = emotions_data['text'].apply(clean_tweet)\n",
    "emotions_data.head()"
   ]
  },
  {
   "cell_type": "code",
   "execution_count": 29,
   "metadata": {},
   "outputs": [],
   "source": [
    "from transformers import BertTokenizer\n",
    "\n",
    "tokenizer = BertTokenizer.from_pretrained('bert-base-uncased')\n",
    "\n",
    "# Compute token lengths\n",
    "def compute_token_length(text):\n",
    "    encoded = tokenizer.encode(text, add_special_tokens=True)\n",
    "    return len(encoded)\n",
    "\n",
    "emotions_data['token_length'] = emotions_data['text'].apply(compute_token_length)"
   ]
  },
  {
   "cell_type": "code",
   "execution_count": 30,
   "metadata": {},
   "outputs": [
    {
     "name": "stdout",
     "output_type": "stream",
     "text": [
      "Number of entries exceeding 0 tokens: 416809\n",
      "Number of entries exceeding 100 tokens: 6\n",
      "Number of entries exceeding 200 tokens: 0\n",
      "Number of entries exceeding 300 tokens: 0\n",
      "Number of entries exceeding 400 tokens: 0\n",
      "Number of entries exceeding 500 tokens: 0\n"
     ]
    }
   ],
   "source": [
    "# Count entries exceeding thresholds\n",
    "execeed_0 = len(emotions_data[emotions_data['token_length'] > 0])\n",
    "exceed_100 = len(emotions_data[emotions_data['token_length'] > 100])\n",
    "exceed_200 = len(emotions_data[emotions_data['token_length'] > 200])\n",
    "exceed_300 = len(emotions_data[emotions_data['token_length'] > 300])\n",
    "exceed_400 = len(emotions_data[emotions_data['token_length'] > 400])\n",
    "exceed_500 = len(emotions_data[emotions_data['token_length'] > 500])\n",
    "\n",
    "print(f\"Number of entries exceeding 0 tokens: {execeed_0}\")\n",
    "print(f\"Number of entries exceeding 100 tokens: {exceed_100}\")\n",
    "print(f\"Number of entries exceeding 200 tokens: {exceed_200}\")\n",
    "print(f\"Number of entries exceeding 300 tokens: {exceed_300}\")\n",
    "print(f\"Number of entries exceeding 400 tokens: {exceed_400}\")\n",
    "print(f\"Number of entries exceeding 500 tokens: {exceed_500}\")"
   ]
  },
  {
   "cell_type": "code",
   "execution_count": 32,
   "metadata": {},
   "outputs": [],
   "source": [
    "emotions_data.to_csv('Datasets/Cleaned with tokens/emotions_dataset.csv', encoding='utf-8', index=False)"
   ]
  },
  {
   "cell_type": "markdown",
   "metadata": {},
   "source": [
    "# goEmotions Dataset"
   ]
  },
  {
   "cell_type": "code",
   "execution_count": 10,
   "metadata": {},
   "outputs": [],
   "source": [
    "goemotions = datasets.load_dataset(\"go_emotions\")\n",
    "goemotions_train = pd.DataFrame(goemotions['train'])\n",
    "goemotions_val = pd.DataFrame(goemotions['validation'])\n",
    "goemotions_test = pd.DataFrame(goemotions['test'])"
   ]
  },
  {
   "cell_type": "code",
   "execution_count": 11,
   "metadata": {},
   "outputs": [
    {
     "name": "stdout",
     "output_type": "stream",
     "text": [
      "Train size: 36308\n",
      "Validation size: 4548\n",
      "Test size: 4590\n"
     ]
    }
   ],
   "source": [
    "def filter_single_label(df):\n",
    "    df = df[df['labels'].apply(lambda x: len(x) == 1)]\n",
    "    new_df = df.copy()\n",
    "    new_df['labels'] = df['labels'].apply(lambda x: x[0])\n",
    "    new_df = new_df.drop(['id'], axis=1)\n",
    "    return new_df\n",
    "\n",
    "goemotions_train = filter_single_label(goemotions_train)\n",
    "goemotions_val = filter_single_label(goemotions_val)\n",
    "goemotions_test = filter_single_label(goemotions_test)\n",
    "\n",
    "print(f\"Train size: {len(goemotions_train)}\")\n",
    "print(f\"Validation size: {len(goemotions_val)}\")\n",
    "print(f\"Test size: {len(goemotions_test)}\")"
   ]
  },
  {
   "cell_type": "code",
   "execution_count": 14,
   "metadata": {},
   "outputs": [],
   "source": [
    "goemotions_train['text'] = goemotions_train['text'].apply(clean_reddit_comment)\n",
    "goemotions_val['text'] = goemotions_val['text'].apply(clean_reddit_comment)\n",
    "goemotions_test['text'] = goemotions_test['text'].apply(clean_reddit_comment)\n",
    "\n",
    "goemotions_train.replace(to_replace=r'\\[name\\]', value='someone', regex=True, inplace=True)\n",
    "goemotions_val.replace(to_replace=r'\\[name\\]', value='someone', regex=True, inplace=True)\n",
    "goemotions_test.replace(to_replace=r'\\[name\\]', value='someone', regex=True, inplace=True)"
   ]
  },
  {
   "cell_type": "code",
   "execution_count": 15,
   "metadata": {},
   "outputs": [],
   "source": [
    "def clean_empty_text(df, text_column='text', verbose=True):\n",
    "    df_copy = df.copy()\n",
    "    \n",
    "    df_copy['is_text_empty'] = df_copy[text_column].apply(lambda x: pd.isnull(x) or x == \"\")\n",
    "    \n",
    "    empty_text_count = df_copy['is_text_empty'].sum()\n",
    "    \n",
    "    if verbose:\n",
    "        print(f\"Total number of empty or NaN entries in '{text_column}' column: {empty_text_count}\")\n",
    "        print(f\"Shape of dataset before removing empty entries: {df_copy.shape}\")\n",
    "    \n",
    "    df_cleaned = df_copy[df_copy[text_column].notna() & (df_copy[text_column] != \"\")]\n",
    "    \n",
    "    df_cleaned = df_cleaned.drop(['is_text_empty'], axis=1)\n",
    "    \n",
    "    if verbose:\n",
    "        print(f\"Shape of dataset after removing empty entries: {df_cleaned.shape}\")\n",
    "        print(f\"Removed {empty_text_count} rows\")\n",
    "    \n",
    "    return df_cleaned"
   ]
  },
  {
   "cell_type": "code",
   "execution_count": 16,
   "metadata": {},
   "outputs": [
    {
     "name": "stdout",
     "output_type": "stream",
     "text": [
      "Total number of empty or NaN entries in 'text' column: 2\n",
      "Shape of dataset before removing empty entries: (36308, 3)\n",
      "Shape of dataset after removing empty entries: (36306, 2)\n",
      "Removed 2 rows\n",
      "Total number of empty or NaN entries in 'text' column: 0\n",
      "Shape of dataset before removing empty entries: (4548, 3)\n",
      "Shape of dataset after removing empty entries: (4548, 2)\n",
      "Removed 0 rows\n",
      "Total number of empty or NaN entries in 'text' column: 1\n",
      "Shape of dataset before removing empty entries: (4590, 3)\n",
      "Shape of dataset after removing empty entries: (4589, 2)\n",
      "Removed 1 rows\n"
     ]
    }
   ],
   "source": [
    "goemotions_train = clean_empty_text(goemotions_train)\n",
    "goemotions_val = clean_empty_text(goemotions_val)\n",
    "goemotions_test = clean_empty_text(goemotions_test)"
   ]
  },
  {
   "cell_type": "code",
   "execution_count": 17,
   "metadata": {},
   "outputs": [
    {
     "name": "stdout",
     "output_type": "stream",
     "text": [
      "Number of unique labels in GoEmotions dataset:\n",
      "Train: 28\n",
      "Validation: 28\n",
      "Test: 28\n"
     ]
    }
   ],
   "source": [
    "# Find number of unique labels\n",
    "\n",
    "print(\"Number of unique labels in GoEmotions dataset:\")\n",
    "print(f\"Train: {goemotions_train['labels'].nunique()}\")\n",
    "print(f\"Validation: {goemotions_val['labels'].nunique()}\")\n",
    "print(f\"Test: {goemotions_test['labels'].nunique()}\")"
   ]
  },
  {
   "cell_type": "code",
   "execution_count": 18,
   "metadata": {},
   "outputs": [
    {
     "name": "stdout",
     "output_type": "stream",
     "text": [
      "Shape of combined dataset: (45443, 2)\n"
     ]
    },
    {
     "data": {
      "text/html": [
       "<div>\n",
       "<style scoped>\n",
       "    .dataframe tbody tr th:only-of-type {\n",
       "        vertical-align: middle;\n",
       "    }\n",
       "\n",
       "    .dataframe tbody tr th {\n",
       "        vertical-align: top;\n",
       "    }\n",
       "\n",
       "    .dataframe thead th {\n",
       "        text-align: right;\n",
       "    }\n",
       "</style>\n",
       "<table border=\"1\" class=\"dataframe\">\n",
       "  <thead>\n",
       "    <tr style=\"text-align: right;\">\n",
       "      <th></th>\n",
       "      <th>text</th>\n",
       "      <th>labels</th>\n",
       "    </tr>\n",
       "  </thead>\n",
       "  <tbody>\n",
       "    <tr>\n",
       "      <th>0</th>\n",
       "      <td>my favourite food is anything i didn't have to...</td>\n",
       "      <td>27</td>\n",
       "    </tr>\n",
       "    <tr>\n",
       "      <th>1</th>\n",
       "      <td>now if he does off himself, everyone will thin...</td>\n",
       "      <td>27</td>\n",
       "    </tr>\n",
       "    <tr>\n",
       "      <th>2</th>\n",
       "      <td>why the fuck is bayless isoing</td>\n",
       "      <td>2</td>\n",
       "    </tr>\n",
       "    <tr>\n",
       "      <th>3</th>\n",
       "      <td>to make her feel threatened</td>\n",
       "      <td>14</td>\n",
       "    </tr>\n",
       "    <tr>\n",
       "      <th>4</th>\n",
       "      <td>dirty southern wankers</td>\n",
       "      <td>3</td>\n",
       "    </tr>\n",
       "  </tbody>\n",
       "</table>\n",
       "</div>"
      ],
      "text/plain": [
       "                                                text  labels\n",
       "0  my favourite food is anything i didn't have to...      27\n",
       "1  now if he does off himself, everyone will thin...      27\n",
       "2                     why the fuck is bayless isoing       2\n",
       "3                        to make her feel threatened      14\n",
       "4                             dirty southern wankers       3"
      ]
     },
     "execution_count": 18,
     "metadata": {},
     "output_type": "execute_result"
    }
   ],
   "source": [
    "# Check label distribution in each dataset\n",
    "\n",
    "# Combine the 3 datasets into 1\n",
    "goemotions_combined_df = pd.concat([goemotions_train, goemotions_val, goemotions_test])\n",
    "\n",
    "# Reset index to avoid duplicate indices\n",
    "goemotions_combined_df = goemotions_combined_df.reset_index(drop=True)\n",
    "\n",
    "# Display information about the combined dataset\n",
    "print(f\"Shape of combined dataset: {goemotions_combined_df.shape}\")\n",
    "goemotions_combined_df.head()"
   ]
  },
  {
   "cell_type": "code",
   "execution_count": 19,
   "metadata": {},
   "outputs": [
    {
     "data": {
      "text/plain": [
       "labels\n",
       "27    16018\n",
       "0      3384\n",
       "15     2378\n",
       "4      2367\n",
       "1      2046\n",
       "3      1809\n",
       "10     1809\n",
       "18     1760\n",
       "7      1729\n",
       "2      1265\n",
       "20     1087\n",
       "6      1057\n",
       "17     1052\n",
       "25     1003\n",
       "26      902\n",
       "9       888\n",
       "5       831\n",
       "22      749\n",
       "11      635\n",
       "13      619\n",
       "14      553\n",
       "8       497\n",
       "24      437\n",
       "12      246\n",
       "19      105\n",
       "23      103\n",
       "21       67\n",
       "16       47\n",
       "Name: count, dtype: int64"
      ]
     },
     "execution_count": 19,
     "metadata": {},
     "output_type": "execute_result"
    }
   ],
   "source": [
    "goemotions_combined_df['labels'].value_counts()"
   ]
  },
  {
   "cell_type": "code",
   "execution_count": 20,
   "metadata": {},
   "outputs": [],
   "source": [
    "from transformers import BertTokenizer\n",
    "\n",
    "tokenizer = BertTokenizer.from_pretrained('bert-base-uncased')\n",
    "\n",
    "# Compute token lengths\n",
    "def compute_token_length(text):\n",
    "    encoded = tokenizer.encode(text, add_special_tokens=True)\n",
    "    return len(encoded)\n",
    "\n",
    "goemotions_combined_df['token_length'] = goemotions_combined_df['text'].apply(compute_token_length)"
   ]
  },
  {
   "cell_type": "code",
   "execution_count": 21,
   "metadata": {},
   "outputs": [
    {
     "name": "stdout",
     "output_type": "stream",
     "text": [
      "Number of entries exceeding 0 tokens: 45443\n",
      "Number of entries exceeding 100 tokens: 0\n",
      "Number of entries exceeding 200 tokens: 0\n",
      "Number of entries exceeding 300 tokens: 0\n",
      "Number of entries exceeding 400 tokens: 0\n",
      "Number of entries exceeding 500 tokens: 0\n"
     ]
    }
   ],
   "source": [
    "# Count entries exceeding thresholds\n",
    "exceed_0 = len(goemotions_combined_df[goemotions_combined_df['token_length'] > 0])\n",
    "exceed_100 = len(goemotions_combined_df[goemotions_combined_df['token_length'] > 100])\n",
    "exceed_200 = len(goemotions_combined_df[goemotions_combined_df['token_length'] > 200])\n",
    "exceed_300 = len(goemotions_combined_df[goemotions_combined_df['token_length'] > 300])\n",
    "exceed_400 = len(goemotions_combined_df[goemotions_combined_df['token_length'] > 400])\n",
    "exceed_500 = len(goemotions_combined_df[goemotions_combined_df['token_length'] > 500])\n",
    "\n",
    "print(f\"Number of entries exceeding 0 tokens: {exceed_0}\")\n",
    "print(f\"Number of entries exceeding 100 tokens: {exceed_100}\")\n",
    "print(f\"Number of entries exceeding 200 tokens: {exceed_200}\")\n",
    "print(f\"Number of entries exceeding 300 tokens: {exceed_300}\")\n",
    "print(f\"Number of entries exceeding 400 tokens: {exceed_400}\")\n",
    "print(f\"Number of entries exceeding 500 tokens: {exceed_500}\")"
   ]
  },
  {
   "cell_type": "code",
   "execution_count": 42,
   "metadata": {},
   "outputs": [],
   "source": [
    "goemotions_train.to_csv('Datasets/goemotions/goemotions_train.csv', encoding='utf-8', index=False)\n",
    "goemotions_val.to_csv('Datasets/goemotions/goemotions_val.csv', encoding='utf-8', index=False)\n",
    "goemotions_test.to_csv('Datasets/goemotions/goemotions_test.csv', encoding='utf-8', index=False)"
   ]
  }
 ],
 "metadata": {
  "kernelspec": {
   "display_name": "Python 3",
   "language": "python",
   "name": "python3"
  },
  "language_info": {
   "codemirror_mode": {
    "name": "ipython",
    "version": 3
   },
   "file_extension": ".py",
   "mimetype": "text/x-python",
   "name": "python",
   "nbconvert_exporter": "python",
   "pygments_lexer": "ipython3",
   "version": "3.12.7"
  }
 },
 "nbformat": 4,
 "nbformat_minor": 2
}
