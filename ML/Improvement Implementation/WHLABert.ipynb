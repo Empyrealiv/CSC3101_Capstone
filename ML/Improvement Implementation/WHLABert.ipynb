{
 "cells": [
  {
   "cell_type": "code",
   "execution_count": null,
   "metadata": {},
   "outputs": [],
   "source": [
    "import torch\n",
    "import torch.nn as nn\n",
    "from torch.nn import CrossEntropyLoss\n",
    "from transformers import BertModel, PreTrainedModel, BertConfig\n",
    "from safetensors.torch import save_file, load_file"
   ]
  },
  {
   "cell_type": "code",
   "execution_count": null,
   "metadata": {},
   "outputs": [],
   "source": [
    "class WHLA_BERT(nn.Module):\n",
    "    def __init__(self, pretrained_model=\"bert-base-uncased\", num_labels=2):\n",
    "        super(WHLA_BERT, self).__init__()\n",
    "\n",
    "        self.bert = BertModel.from_pretrained(pretrained_model, output_hidden_states=True)\n",
    "        self.hidden_size = self.bert.config.hidden_size\n",
    "\n",
    "        self.gates = nn.Parameter(torch.ones(4))\n",
    "        self.fc = nn.Linear(self.hidden_size, num_labels)\n",
    "        self.dropout = nn.Dropout(0.5)\n",
    "        self.layer_norm = nn.LayerNorm(self.hidden_size)\n",
    "\n",
    "    def forward(self, input_ids, attention_mask, labels=None):\n",
    "        outputs = self.bert(input_ids=input_ids, attention_mask=attention_mask, return_dict=True)\n",
    "        hidden_states = outputs.hidden_states\n",
    "\n",
    "        L9 = hidden_states[-4]\n",
    "        L10 = hidden_states[-3]\n",
    "        L11 = hidden_states[-2]\n",
    "        L12 = hidden_states[-1]\n",
    "\n",
    "        weighted_sum = self.gates[0] * L9 + self.gates[1] * L10 + self.gates[2] * L11 + self.gates[3] * L12\n",
    "        normalized_sum = self.layer_norm(weighted_sum)\n",
    "        cls_representation = normalized_sum[:, 0, :]\n",
    "\n",
    "        logits = self.fc(self.dropout(cls_representation))\n",
    "\n",
    "        if labels is not None:\n",
    "            loss_fct = CrossEntropyLoss()\n",
    "            loss = loss_fct(logits.view(-1, logits.size(-1)), labels.view(-1))\n",
    "            return {\"loss\": loss, \"logits\": logits}\n",
    "        return logits"
   ]
  },
  {
   "cell_type": "code",
   "execution_count": null,
   "metadata": {},
   "outputs": [],
   "source": [
    "whla_model = WHLA_BERT(pretrained_model=\"bert-base-uncased\", num_labels=2)"
   ]
  },
  {
   "cell_type": "markdown",
   "metadata": {},
   "source": [
    "# Save model"
   ]
  },
  {
   "cell_type": "code",
   "execution_count": null,
   "metadata": {},
   "outputs": [],
   "source": [
    "torch.save(whla_model.state_dict(), \"whla_bert/whla_bert_model.pth\")\n",
    "\n",
    "import json\n",
    "\n",
    "config = {\n",
    "    \"hidden_size\": whla_model.hidden_size,\n",
    "    \"num_labels\": whla_model.fc.out_features,\n",
    "    \"gates\": whla_model.gates.tolist()\n",
    "}\n",
    "\n",
    "# Save configuration\n",
    "with open(\"whla_bert/whla_bert_config.json\", \"w\") as f:\n",
    "    json.dump(config, f)"
   ]
  },
  {
   "cell_type": "markdown",
   "metadata": {},
   "source": [
    "# Loading model"
   ]
  },
  {
   "cell_type": "code",
   "execution_count": null,
   "metadata": {},
   "outputs": [],
   "source": [
    "# Load configuration\n",
    "with open(\"whla_bert/whla_bert_config.json\", \"r\") as f:\n",
    "    config = json.load(f)\n",
    "\n",
    "# Initialize the model\n",
    "import torch.nn as nn\n",
    "model = WHLA_BERT(pretrained_model=\"bert-base-uncased\", num_labels=2)\n",
    "model.gates = nn.Parameter(torch.tensor(config[\"gates\"]))\n",
    "model.fc = nn.Linear(config[\"hidden_size\"], config[\"num_labels\"])\n",
    "model.load_state_dict(torch.load(\"whla_bert/whla_bert_model.pth\", weights_only=True))"
   ]
  }
 ],
 "metadata": {
  "kernelspec": {
   "display_name": "Python 3",
   "language": "python",
   "name": "python3"
  },
  "language_info": {
   "codemirror_mode": {
    "name": "ipython",
    "version": 3
   },
   "file_extension": ".py",
   "mimetype": "text/x-python",
   "name": "python",
   "nbconvert_exporter": "python",
   "pygments_lexer": "ipython3",
   "version": "3.12.7"
  }
 },
 "nbformat": 4,
 "nbformat_minor": 2
}
