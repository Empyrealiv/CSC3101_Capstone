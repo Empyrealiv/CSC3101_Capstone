{
 "cells": [
  {
   "cell_type": "code",
   "execution_count": 1,
   "metadata": {},
   "outputs": [
    {
     "name": "stderr",
     "output_type": "stream",
     "text": [
      "c:\\Users\\rey32\\AppData\\Local\\Programs\\Python\\Python312\\Lib\\site-packages\\tqdm\\auto.py:21: TqdmWarning: IProgress not found. Please update jupyter and ipywidgets. See https://ipywidgets.readthedocs.io/en/stable/user_install.html\n",
      "  from .autonotebook import tqdm as notebook_tqdm\n"
     ]
    }
   ],
   "source": [
    "import torch\n",
    "import torch.nn as nn\n",
    "from transformers import BertModel\n",
    "from transformers import BertTokenizer\n",
    "\n",
    "tokenizer = BertTokenizer.from_pretrained('bert-base-uncased')\n",
    "\n",
    "class HierarchicalBERTSentiment(nn.Module):\n",
    "    def __init__(self, hidden_dim=768, num_classes=3, num_layers=4):\n",
    "        super(HierarchicalBERTSentiment, self).__init__()\n",
    "        \n",
    "        # Load BERT with hidden state outputs for layer aggregation\n",
    "        self.bert = BertModel.from_pretrained('bert-base-uncased', output_hidden_states=True)\n",
    "        \n",
    "        # Define the number of layers to aggregate\n",
    "        self.num_layers = num_layers  # Use top 4 or 8 layers, for example\n",
    "        \n",
    "        # Attention layers for word-level and sentence-level attention\n",
    "        self.word_attention = nn.Linear(hidden_dim, 1)\n",
    "        self.sentence_attention = nn.Linear(hidden_dim, 1)\n",
    "        \n",
    "        # Final classification layer\n",
    "        self.classifier = nn.Linear(hidden_dim, num_classes)\n",
    "\n",
    "    def aggregate_hidden_layers(self, hidden_states):\n",
    "        # Select and sum the top `num_layers` hidden states\n",
    "        selected_layers = hidden_states[-self.num_layers:]  # Select last `num_layers` layers\n",
    "        agg_embedding = torch.stack(selected_layers).sum(dim=0)  # Sum across layers\n",
    "        return agg_embedding[:, 0, :]  # Use the [CLS] token embedding (first token)\n",
    "\n",
    "    def word_level_attention(self, word_embeddings):\n",
    "        # Compute attention weights and get sentence embedding\n",
    "        attention_scores = self.word_attention(word_embeddings)  # Shape: [num_words, 1]\n",
    "        attention_weights = torch.softmax(attention_scores, dim=0)  # Normalize scores\n",
    "        weighted_sum = torch.sum(attention_weights * word_embeddings, dim=0)  # Weighted sum of words\n",
    "        return weighted_sum  # Shape: [hidden_dim]\n",
    "\n",
    "    def sentence_level_attention(self, sentence_embeddings):\n",
    "        # Compute attention weights and get document embedding\n",
    "        attention_scores = self.sentence_attention(sentence_embeddings)  # Shape: [num_sentences, 1]\n",
    "        attention_weights = torch.softmax(attention_scores, dim=0)  # Normalize scores\n",
    "        weighted_sum = torch.sum(attention_weights * sentence_embeddings, dim=0)  # Weighted sum of sentences\n",
    "        return weighted_sum  # Shape: [hidden_dim]\n",
    "\n",
    "    def forward(self, documents):\n",
    "        sentence_embeddings = []\n",
    "        \n",
    "        for sentence in documents:  # Process each sentence in the document\n",
    "            # Tokenize and pass sentence through BERT\n",
    "            inputs = tokenizer(sentence, return_tensors='pt', truncation=True, padding=True)\n",
    "            outputs = self.bert(**inputs)\n",
    "            \n",
    "            # Aggregate hidden layers\n",
    "            hidden_states = outputs.hidden_states\n",
    "            word_embeddings = self.aggregate_hidden_layers(hidden_states)  # Shape: [num_words, hidden_dim]\n",
    "            \n",
    "            # Apply word-level attention to get sentence embedding\n",
    "            sentence_embedding = self.word_level_attention(word_embeddings)\n",
    "            sentence_embeddings.append(sentence_embedding)\n",
    "        \n",
    "        # Stack sentence embeddings for document-level processing\n",
    "        sentence_embeddings = torch.stack(sentence_embeddings)  # Shape: [num_sentences, hidden_dim]\n",
    "        \n",
    "        # Apply sentence-level attention to get document embedding\n",
    "        document_embedding = self.sentence_level_attention(sentence_embeddings)\n",
    "        \n",
    "        # Pass document embedding to classifier\n",
    "        logits = self.classifier(document_embedding.unsqueeze(0))  # Shape: [1, num_classes]\n",
    "        return logits\n"
   ]
  },
  {
   "cell_type": "code",
   "execution_count": null,
   "metadata": {},
   "outputs": [],
   "source": []
  },
  {
   "cell_type": "code",
   "execution_count": null,
   "metadata": {},
   "outputs": [],
   "source": []
  },
  {
   "cell_type": "code",
   "execution_count": null,
   "metadata": {},
   "outputs": [],
   "source": []
  }
 ],
 "metadata": {
  "kernelspec": {
   "display_name": "Python 3",
   "language": "python",
   "name": "python3"
  },
  "language_info": {
   "codemirror_mode": {
    "name": "ipython",
    "version": 3
   },
   "file_extension": ".py",
   "mimetype": "text/x-python",
   "name": "python",
   "nbconvert_exporter": "python",
   "pygments_lexer": "ipython3",
   "version": "3.12.7"
  }
 },
 "nbformat": 4,
 "nbformat_minor": 2
}
