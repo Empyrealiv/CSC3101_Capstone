{
 "cells": [
  {
   "cell_type": "code",
   "execution_count": null,
   "metadata": {},
   "outputs": [],
   "source": [
    "import json\n",
    "import csv\n",
    "\n",
    "input_file = 'Datasets/Original/yelp_academic_dataset_review.json'\n",
    "output_file = 'Datasets/Original/yelp_reviews.csv'\n",
    "\n",
    "try:\n",
    "    with open(input_file, encoding='utf-8') as file:\n",
    "        with open(output_file, mode='w', newline='', encoding='utf-8') as csv_file:\n",
    "            writer = csv.writer(csv_file)\n",
    "            \n",
    "            header_written = False\n",
    "            for line in file:\n",
    "                record = json.loads(line.strip())\n",
    "                \n",
    "                if not header_written:\n",
    "                    writer.writerow(record.keys())\n",
    "                    header_written = True\n",
    "                \n",
    "                writer.writerow(record.values())\n",
    "                \n",
    "    print(f\"Data successfully written to {output_file}\")\n",
    "except Exception as e:\n",
    "    print(f\"An unexpected error occurred: {e}\")\n"
   ]
  },
  {
   "cell_type": "code",
   "execution_count": null,
   "metadata": {},
   "outputs": [],
   "source": [
    "import pandas as pd\n",
    "\n",
    "yelp_data = pd.read_csv('Datasets/Original/yelp_reviews.csv')\n",
    "print(f\"Shape of yelp dataset: {yelp_data.shape}\")\n",
    "yelp_data.head()"
   ]
  },
  {
   "cell_type": "code",
   "execution_count": null,
   "metadata": {},
   "outputs": [],
   "source": [
    "yelp_1star = yelp_data[yelp_data['stars'] == 1].sample(n=150000, random_state=42)\n",
    "yelp_5star = yelp_data[yelp_data['stars'] == 5].sample(n=150000, random_state=42)\n",
    "yelp_data = pd.concat([yelp_1star, yelp_5star])\n",
    "\n",
    "output = 'Datasets/Original/yelp_sampled.csv'\n",
    "yelp_data.to_csv(output, index=False)"
   ]
  }
 ],
 "metadata": {
  "kernelspec": {
   "display_name": "Python 3",
   "language": "python",
   "name": "python3"
  },
  "language_info": {
   "name": "python",
   "version": "3.12.7"
  }
 },
 "nbformat": 4,
 "nbformat_minor": 2
}
