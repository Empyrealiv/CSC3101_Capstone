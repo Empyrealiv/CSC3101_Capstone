{
 "cells": [
  {
   "cell_type": "code",
   "execution_count": 1,
   "metadata": {},
   "outputs": [
    {
     "name": "stderr",
     "output_type": "stream",
     "text": [
      "c:\\Users\\rey32\\AppData\\Local\\Programs\\Python\\Python312\\Lib\\site-packages\\tqdm\\auto.py:21: TqdmWarning: IProgress not found. Please update jupyter and ipywidgets. See https://ipywidgets.readthedocs.io/en/stable/user_install.html\n",
      "  from .autonotebook import tqdm as notebook_tqdm\n"
     ]
    },
    {
     "data": {
      "text/plain": [
       "BertForSequenceClassification(\n",
       "  (bert): BertModel(\n",
       "    (embeddings): BertEmbeddings(\n",
       "      (word_embeddings): Embedding(30522, 768, padding_idx=0)\n",
       "      (position_embeddings): Embedding(512, 768)\n",
       "      (token_type_embeddings): Embedding(2, 768)\n",
       "      (LayerNorm): LayerNorm((768,), eps=1e-12, elementwise_affine=True)\n",
       "      (dropout): Dropout(p=0.1, inplace=False)\n",
       "    )\n",
       "    (encoder): BertEncoder(\n",
       "      (layer): ModuleList(\n",
       "        (0-11): 12 x BertLayer(\n",
       "          (attention): BertAttention(\n",
       "            (self): BertSdpaSelfAttention(\n",
       "              (query): Linear(in_features=768, out_features=768, bias=True)\n",
       "              (key): Linear(in_features=768, out_features=768, bias=True)\n",
       "              (value): Linear(in_features=768, out_features=768, bias=True)\n",
       "              (dropout): Dropout(p=0.1, inplace=False)\n",
       "            )\n",
       "            (output): BertSelfOutput(\n",
       "              (dense): Linear(in_features=768, out_features=768, bias=True)\n",
       "              (LayerNorm): LayerNorm((768,), eps=1e-12, elementwise_affine=True)\n",
       "              (dropout): Dropout(p=0.1, inplace=False)\n",
       "            )\n",
       "          )\n",
       "          (intermediate): BertIntermediate(\n",
       "            (dense): Linear(in_features=768, out_features=3072, bias=True)\n",
       "            (intermediate_act_fn): GELUActivation()\n",
       "          )\n",
       "          (output): BertOutput(\n",
       "            (dense): Linear(in_features=3072, out_features=768, bias=True)\n",
       "            (LayerNorm): LayerNorm((768,), eps=1e-12, elementwise_affine=True)\n",
       "            (dropout): Dropout(p=0.1, inplace=False)\n",
       "          )\n",
       "        )\n",
       "      )\n",
       "    )\n",
       "    (pooler): BertPooler(\n",
       "      (dense): Linear(in_features=768, out_features=768, bias=True)\n",
       "      (activation): Tanh()\n",
       "    )\n",
       "  )\n",
       "  (dropout): Dropout(p=0.1, inplace=False)\n",
       "  (classifier): Linear(in_features=768, out_features=2, bias=True)\n",
       ")"
      ]
     },
     "execution_count": 1,
     "metadata": {},
     "output_type": "execute_result"
    }
   ],
   "source": [
    "from transformers import BertTokenizer, BertForSequenceClassification\n",
    "import torch\n",
    "\n",
    "model = BertForSequenceClassification.from_pretrained('../sentiment_analysis_backend/Models/Model_2')\n",
    "tokenizer = BertTokenizer.from_pretrained('../sentiment_analysis_backend/Models/Model_2')\n",
    "model.eval()"
   ]
  },
  {
   "cell_type": "code",
   "execution_count": null,
   "metadata": {},
   "outputs": [
    {
     "name": "stdout",
     "output_type": "stream",
     "text": [
      "Predicted class: 0, Confidence: 0.91\n"
     ]
    }
   ],
   "source": [
    "from torch.nn.functional import softmax\n",
    "\n",
    "def predict_with_confidence(text: str):\n",
    "    inputs = tokenizer(text, return_tensors=\"pt\", truncation=True, padding=True, max_length=512)\n",
    "    with torch.no_grad():\n",
    "        outputs = model(**inputs)\n",
    "    logits = outputs.logits\n",
    "    \n",
    "    probabilities = softmax(logits, dim=-1)\n",
    "    \n",
    "    prediction = torch.argmax(probabilities, dim=-1).item()\n",
    "    confidence = probabilities[0, prediction].item()\n",
    "    \n",
    "    return prediction, confidence\n",
    "\n",
    "# Example usage\n",
    "text = \"\"\"HUH, uh, ok, I'm sorry?\"\"\"\n",
    "\n",
    "predicted_class, confidence = predict_with_confidence(text)\n",
    "print(f\"Predicted class: {predicted_class}, Confidence: {confidence:.2f}\")"
   ]
  },
  {
   "cell_type": "code",
   "execution_count": 18,
   "metadata": {},
   "outputs": [
    {
     "name": "stdout",
     "output_type": "stream",
     "text": [
      "{'text': 'Not gonna lie David that was AWESOME!', 'predicted_class': 1, 'confidence': 0.9130285978317261, 'important_words': [{'word': 'not', 'contribution': 0.08270232379436493}, {'word': 'gonna', 'contribution': 0.20245884358882904}, {'word': 'lie', 'contribution': 0.30110064148902893}, {'word': 'david', 'contribution': 0.1406608670949936}, {'word': 'that', 'contribution': 0.03422898054122925}, {'word': 'was', 'contribution': 0.028362615033984184}, {'word': 'awesome', 'contribution': 0.10779783874750137}, {'word': '!', 'contribution': 0.03372906893491745}]}\n"
     ]
    }
   ],
   "source": [
    "def explain_with_gradients(text, threshold=0.0):\n",
    "    # Tokenize the input text\n",
    "    inputs = tokenizer(text, return_tensors=\"pt\", truncation=True, padding=True, max_length=512)\n",
    "    input_ids = inputs[\"input_ids\"]\n",
    "    attention_mask = inputs[\"attention_mask\"]\n",
    "\n",
    "    # Extract input embeddings and enable gradients\n",
    "    embeddings = model.get_input_embeddings()(input_ids).detach()\n",
    "    embeddings.requires_grad = True\n",
    "\n",
    "    # Forward pass using embeddings\n",
    "    outputs = model(inputs_embeds=embeddings, attention_mask=attention_mask)\n",
    "    logits = outputs.logits\n",
    "    predicted_class = torch.argmax(logits, dim=1).item()\n",
    "    confidence = torch.softmax(logits, dim=1)[0, predicted_class].item()\n",
    "\n",
    "    # Backward pass to compute gradients\n",
    "    logits[0, predicted_class].backward()\n",
    "    gradients = embeddings.grad[0]  # Gradients with respect to embeddings\n",
    "\n",
    "    # Compute token importance scores as the norm of gradient * embedding\n",
    "    importance_scores = torch.norm(gradients * embeddings[0], dim=-1)\n",
    "\n",
    "    # Normalize scores for interpretability\n",
    "    importance_scores = importance_scores / importance_scores.sum()\n",
    "\n",
    "    # Map tokens to words\n",
    "    tokens = tokenizer.convert_ids_to_tokens(input_ids[0])\n",
    "\n",
    "    # Filter tokens by threshold\n",
    "    important_words = [\n",
    "        {\"word\": token, \"contribution\": score.item()}\n",
    "        for token, score in zip(tokens, importance_scores)\n",
    "        if score.item() > threshold and token not in [\"[CLS]\", \"[SEP]\"]\n",
    "    ]\n",
    "\n",
    "    return {\n",
    "        \"text\": text,\n",
    "        \"predicted_class\": predicted_class,\n",
    "        \"confidence\": confidence,\n",
    "        \"important_words\": important_words,\n",
    "    }\n",
    "\n",
    "# Example usage\n",
    "text = \"Not gonna lie David that was AWESOME!\"\n",
    "result = explain_with_gradients(text, threshold=0.01)\n",
    "print(result)\n"
   ]
  }
 ],
 "metadata": {
  "kernelspec": {
   "display_name": "Python 3",
   "language": "python",
   "name": "python3"
  },
  "language_info": {
   "codemirror_mode": {
    "name": "ipython",
    "version": 3
   },
   "file_extension": ".py",
   "mimetype": "text/x-python",
   "name": "python",
   "nbconvert_exporter": "python",
   "pygments_lexer": "ipython3",
   "version": "3.12.7"
  }
 },
 "nbformat": 4,
 "nbformat_minor": 2
}
